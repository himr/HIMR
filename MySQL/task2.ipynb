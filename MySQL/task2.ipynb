{
 "cells": [
  {
   "cell_type": "markdown",
   "metadata": {},
   "source": [
    "# Task2:\n",
    "\n",
    "## 2.1 MySQL基础（二）-表的操作\n",
    "\n",
    "### 1、MySQL表数据类型\n",
    "    数值、日期、时间和字符串(字符)类型\n",
    "### 2、 用SQL创建表\n",
    "    CREATE TABLE table_name (column_name column_type);"
   ]
  },
  {
   "cell_type": "markdown",
   "metadata": {},
   "source": [
    "### 3、SQL向表中添加数据\n",
    "    添加方式：指定列名，不指定列名\n",
    "    INSERT INTO table_name ( field1, field2,...fieldN )\n",
    "                       VALUES\n",
    "                       ( value1, value2,...valueN );"
   ]
  },
  {
   "cell_type": "markdown",
   "metadata": {},
   "source": [
    "### 4、SQL语句删除表\n",
    "    语句：DROP TABLE table_name ;\n",
    "    DELETE\n",
    "    DROP\n",
    "    TRIMCATE"
   ]
  },
  {
   "cell_type": "code",
   "execution_count": null,
   "metadata": {},
   "outputs": [],
   "source": []
  },
  {
   "cell_type": "markdown",
   "metadata": {},
   "source": [
    "### 5、SQL语句修改表\n",
    "    修改列名、表中数据\n",
    "    删除行、列\n",
    "    新建行、列"
   ]
  },
  {
   "cell_type": "markdown",
   "metadata": {},
   "source": [
    "# 作业\n",
    "## 项目三：编写一个 SQL 查询，列出所有超过或等于5名学生的课\n",
    "    +---------+------------+\n",
    "\n",
    "    | student | class      |\n",
    "\n",
    "    +---------+------------+\n",
    "    \n",
    "    | A       | Math       |\n",
    "\n",
    "    | B       | English    |\n",
    "\n",
    "    | C       | Math       |\n",
    "\n",
    "    | D       | Biology    |\n",
    "\n",
    "    | E       | Math       |\n",
    "\n",
    "    | F       | Computer   |\n",
    "\n",
    "    | G       | Math       |\n",
    "\n",
    "    | H       | Math       |\n",
    "\n",
    "    | I       | Math       |\n",
    "\n",
    "    | A      | Math       |\n",
    "\n",
    "    +---------+------------+\n",
    "    编写一个 SQL 查询，列出所有超过或等于5名学生的课。\n",
    "\n",
    "    应该输出:\n",
    "\n",
    "    +---------+\n",
    "\n",
    "    | class   |\n",
    "\n",
    "    +---------+\n",
    "\n",
    "    | Math    |\n",
    "\n",
    "    +---------+\n",
    "\n",
    "    Note:\n",
    "\n",
    "    学生在每个课中不应被重复计算。"
   ]
  },
  {
   "cell_type": "code",
   "execution_count": null,
   "metadata": {},
   "outputs": [],
   "source": [
    "#创建表：\n",
    "CREATE TABLE courses(\n",
    "student VARCHAR(50),\n",
    "class VARCHAR(50)\n",
    ");\n",
    "\n",
    "#插入数据：\n",
    "INSERT INTO courses VALUES('A','Math');\n",
    "INSERT INTO courses VALUES('B','English');\n",
    "INSERT INTO courses VALUES('C','Math');\n",
    "INSERT INTO courses VALUES('D','Biology');\n",
    "INSERT INTO courses VALUES('E','Math');\n",
    "INSERT INTO courses VALUES('F','Computer');\n",
    "INSERT INTO courses VALUES('G','Math');\n",
    "INSERT INTO courses VALUES('H','Math');\n",
    "INSERT INTO courses VALUES('I','Math');\n",
    "INSERT INTO courses VALUES('A','Math');\n",
    "\n"
   ]
  },
  {
   "cell_type": "code",
   "execution_count": null,
   "metadata": {},
   "outputs": [],
   "source": []
  },
  {
   "cell_type": "markdown",
   "metadata": {},
   "source": [
    "## 2.2 MySQL 基础 （三）- 表联结\n",
    "    MySQL别名\n",
    "    INNER JOIN\n",
    "    LEFT JOIN\n",
    "    CROSS JOIN\n",
    "    自连接\n",
    "    UNION\n",
    "    以上几种方式的区别和联系"
   ]
  },
  {
   "cell_type": "markdown",
   "metadata": {},
   "source": [
    "# 作业"
   ]
  },
  {
   "cell_type": "code",
   "execution_count": null,
   "metadata": {},
   "outputs": [],
   "source": []
  }
 ],
 "metadata": {
  "kernelspec": {
   "display_name": "Python 3",
   "language": "python",
   "name": "python3"
  },
  "language_info": {
   "codemirror_mode": {
    "name": "ipython",
    "version": 3
   },
   "file_extension": ".py",
   "mimetype": "text/x-python",
   "name": "python",
   "nbconvert_exporter": "python",
   "pygments_lexer": "ipython3",
   "version": "3.7.1"
  }
 },
 "nbformat": 4,
 "nbformat_minor": 2
}
