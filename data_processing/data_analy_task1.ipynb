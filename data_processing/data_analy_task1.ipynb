{
 "cells": [
  {
   "cell_type": "code",
   "execution_count": 10,
   "metadata": {},
   "outputs": [],
   "source": [
    "# Task 1\n",
    "# 兀漓himr\n",
    "\n",
    "# 导入numpy库\n",
    "\n",
    "import numpy as np"
   ]
  },
  {
   "cell_type": "code",
   "execution_count": 11,
   "metadata": {},
   "outputs": [],
   "source": [
    "my_arr = np.arange(100000)"
   ]
  },
  {
   "cell_type": "code",
   "execution_count": 12,
   "metadata": {},
   "outputs": [],
   "source": [
    "my_list = list(range(100000)) "
   ]
  },
  {
   "cell_type": "code",
   "execution_count": 13,
   "metadata": {},
   "outputs": [
    {
     "name": "stdout",
     "output_type": "stream",
     "text": [
      "Wall time: 0 ns\n"
     ]
    }
   ],
   "source": [
    "%time\n",
    "\n",
    "for _ in range(10):\n",
    "    my_arr2 = my_arr * 2"
   ]
  },
  {
   "cell_type": "code",
   "execution_count": 14,
   "metadata": {},
   "outputs": [
    {
     "name": "stdout",
     "output_type": "stream",
     "text": [
      "Wall time: 0 ns\n"
     ]
    }
   ],
   "source": [
    "%time\n",
    "for _ in range(10):\n",
    "    my_list2 = my_list * 2"
   ]
  },
  {
   "cell_type": "code",
   "execution_count": null,
   "metadata": {},
   "outputs": [],
   "source": [
    "# 这里想按教程测试numpy和list的性能差异，出错惹QWQ"
   ]
  },
  {
   "cell_type": "code",
   "execution_count": 15,
   "metadata": {},
   "outputs": [],
   "source": [
    "# 数组\n",
    "import numpy as np\n"
   ]
  },
  {
   "cell_type": "code",
   "execution_count": 16,
   "metadata": {},
   "outputs": [],
   "source": [
    "data = np.random.randn(2,3)"
   ]
  },
  {
   "cell_type": "code",
   "execution_count": 17,
   "metadata": {},
   "outputs": [
    {
     "data": {
      "text/plain": [
       "array([[ 1.73931476, -1.49515977,  1.61421379],\n",
       "       [-0.74729551,  2.78403935, -1.43338735]])"
      ]
     },
     "execution_count": 17,
     "metadata": {},
     "output_type": "execute_result"
    }
   ],
   "source": [
    "data"
   ]
  },
  {
   "cell_type": "code",
   "execution_count": 18,
   "metadata": {},
   "outputs": [
    {
     "data": {
      "text/plain": [
       "array([[ 17.39314756, -14.95159773,  16.14213793],\n",
       "       [ -7.47295515,  27.84039346, -14.33387347]])"
      ]
     },
     "execution_count": 18,
     "metadata": {},
     "output_type": "execute_result"
    }
   ],
   "source": [
    "data * 10"
   ]
  },
  {
   "cell_type": "code",
   "execution_count": 19,
   "metadata": {},
   "outputs": [
    {
     "data": {
      "text/plain": [
       "array([[ 3.47862951, -2.99031955,  3.22842759],\n",
       "       [-1.49459103,  5.56807869, -2.86677469]])"
      ]
     },
     "execution_count": 19,
     "metadata": {},
     "output_type": "execute_result"
    }
   ],
   "source": [
    "data + data"
   ]
  },
  {
   "cell_type": "code",
   "execution_count": 20,
   "metadata": {},
   "outputs": [
    {
     "data": {
      "text/plain": [
       "(2, 3)"
      ]
     },
     "execution_count": 20,
     "metadata": {},
     "output_type": "execute_result"
    }
   ],
   "source": [
    "data.shape"
   ]
  },
  {
   "cell_type": "code",
   "execution_count": 21,
   "metadata": {},
   "outputs": [
    {
     "data": {
      "text/plain": [
       "dtype('float64')"
      ]
     },
     "execution_count": 21,
     "metadata": {},
     "output_type": "execute_result"
    }
   ],
   "source": [
    "data.dtype"
   ]
  },
  {
   "cell_type": "code",
   "execution_count": 22,
   "metadata": {},
   "outputs": [],
   "source": [
    "data1 = [6, 7.5, 8, 0, 1]"
   ]
  },
  {
   "cell_type": "code",
   "execution_count": 23,
   "metadata": {},
   "outputs": [],
   "source": [
    "arr1 = np.aarr1rray(data1)"
   ]
  },
  {
   "cell_type": "code",
   "execution_count": 24,
   "metadata": {},
   "outputs": [
    {
     "data": {
      "text/plain": [
       "array([6. , 7.5, 8. , 0. , 1. ])"
      ]
     },
     "execution_count": 24,
     "metadata": {},
     "output_type": "execute_result"
    }
   ],
   "source": [
    "arr1"
   ]
  },
  {
   "cell_type": "code",
   "execution_count": 25,
   "metadata": {},
   "outputs": [],
   "source": [
    "data2 = [[1,2,3,4],[5,6,7,8]]"
   ]
  },
  {
   "cell_type": "markdown",
   "metadata": {},
   "source": []
  },
  {
   "cell_type": "code",
   "execution_count": 26,
   "metadata": {},
   "outputs": [],
   "source": [
    "arr2 = np.array(data2)"
   ]
  },
  {
   "cell_type": "code",
   "execution_count": 27,
   "metadata": {},
   "outputs": [
    {
     "data": {
      "text/plain": [
       "array([[1, 2, 3, 4],\n",
       "       [5, 6, 7, 8]])"
      ]
     },
     "execution_count": 27,
     "metadata": {},
     "output_type": "execute_result"
    }
   ],
   "source": [
    "arr2"
   ]
  },
  {
   "cell_type": "code",
   "execution_count": 28,
   "metadata": {},
   "outputs": [
    {
     "data": {
      "text/plain": [
       "2"
      ]
     },
     "execution_count": 28,
     "metadata": {},
     "output_type": "execute_result"
    }
   ],
   "source": [
    "arr2.ndim #维度验证"
   ]
  },
  {
   "cell_type": "code",
   "execution_count": 29,
   "metadata": {},
   "outputs": [
    {
     "data": {
      "text/plain": [
       "(2, 4)"
      ]
     },
     "execution_count": 29,
     "metadata": {},
     "output_type": "execute_result"
    }
   ],
   "source": [
    "arr2.shape #维度"
   ]
  },
  {
   "cell_type": "code",
   "execution_count": 30,
   "metadata": {},
   "outputs": [
    {
     "data": {
      "text/plain": [
       "dtype('float64')"
      ]
     },
     "execution_count": 30,
     "metadata": {},
     "output_type": "execute_result"
    }
   ],
   "source": [
    "arr1.dtype #数据类型"
   ]
  },
  {
   "cell_type": "code",
   "execution_count": 31,
   "metadata": {},
   "outputs": [
    {
     "data": {
      "text/plain": [
       "dtype('int32')"
      ]
     },
     "execution_count": 31,
     "metadata": {},
     "output_type": "execute_result"
    }
   ],
   "source": [
    "arr2.dtype"
   ]
  },
  {
   "cell_type": "code",
   "execution_count": 32,
   "metadata": {},
   "outputs": [
    {
     "data": {
      "text/plain": [
       "array([0., 0., 0., 0., 0., 0., 0., 0., 0., 0.])"
      ]
     },
     "execution_count": 32,
     "metadata": {},
     "output_type": "execute_result"
    }
   ],
   "source": [
    "#新建数组\n",
    "np.zeros(10)"
   ]
  },
  {
   "cell_type": "code",
   "execution_count": 33,
   "metadata": {},
   "outputs": [
    {
     "data": {
      "text/plain": [
       "array([[0., 0., 0., 0., 0., 0.],\n",
       "       [0., 0., 0., 0., 0., 0.],\n",
       "       [0., 0., 0., 0., 0., 0.]])"
      ]
     },
     "execution_count": 33,
     "metadata": {},
     "output_type": "execute_result"
    }
   ],
   "source": [
    "np.zeros((3,6))"
   ]
  },
  {
   "cell_type": "code",
   "execution_count": 34,
   "metadata": {},
   "outputs": [
    {
     "data": {
      "text/plain": [
       "array([[[0., 0.],\n",
       "        [0., 0.],\n",
       "        [0., 0.]],\n",
       "\n",
       "       [[0., 0.],\n",
       "        [0., 0.],\n",
       "        [0., 0.]]])"
      ]
     },
     "execution_count": 34,
     "metadata": {},
     "output_type": "execute_result"
    }
   ],
   "source": [
    "np.empty((2,3,2))"
   ]
  },
  {
   "cell_type": "code",
   "execution_count": 35,
   "metadata": {},
   "outputs": [
    {
     "data": {
      "text/plain": [
       "array([ 0,  1,  2,  3,  4,  5,  6,  7,  8,  9, 10, 11, 12, 13, 14])"
      ]
     },
     "execution_count": 35,
     "metadata": {},
     "output_type": "execute_result"
    }
   ],
   "source": [
    "np.arange(15)"
   ]
  },
  {
   "cell_type": "code",
   "execution_count": 39,
   "metadata": {},
   "outputs": [],
   "source": [
    "# ndarray数据类型\n",
    "arr1 = np.array([1,2,3],dtype=np.float64)"
   ]
  },
  {
   "cell_type": "code",
   "execution_count": 40,
   "metadata": {},
   "outputs": [],
   "source": [
    "arr2 = np.array([1,2,3],dtype=np.float32)"
   ]
  },
  {
   "cell_type": "code",
   "execution_count": 41,
   "metadata": {},
   "outputs": [
    {
     "data": {
      "text/plain": [
       "dtype('float32')"
      ]
     },
     "execution_count": 41,
     "metadata": {},
     "output_type": "execute_result"
    }
   ],
   "source": [
    "arr1.dtype\n",
    "arr2.dtype  #emmmm，这个是我没设好，今天没见时间了，明天再改"
   ]
  },
  {
   "cell_type": "code",
   "execution_count": 42,
   "metadata": {},
   "outputs": [],
   "source": [
    "arr = np.array([1,2,3,4,5])"
   ]
  },
  {
   "cell_type": "code",
   "execution_count": 43,
   "metadata": {},
   "outputs": [
    {
     "data": {
      "text/plain": [
       "dtype('int32')"
      ]
     },
     "execution_count": 43,
     "metadata": {},
     "output_type": "execute_result"
    }
   ],
   "source": [
    "arr.dtype"
   ]
  },
  {
   "cell_type": "code",
   "execution_count": 46,
   "metadata": {},
   "outputs": [],
   "source": [
    "float_arr = arr.astype(np.float)"
   ]
  },
  {
   "cell_type": "code",
   "execution_count": 47,
   "metadata": {},
   "outputs": [
    {
     "data": {
      "text/plain": [
       "dtype('float64')"
      ]
     },
     "execution_count": 47,
     "metadata": {},
     "output_type": "execute_result"
    }
   ],
   "source": [
    "float_arr.dtype"
   ]
  },
  {
   "cell_type": "code",
   "execution_count": 48,
   "metadata": {},
   "outputs": [],
   "source": [
    "arr = np.array([3.7, -1.2, -2.6, 0.5, 12.9, 10.1])"
   ]
  },
  {
   "cell_type": "code",
   "execution_count": 49,
   "metadata": {},
   "outputs": [
    {
     "data": {
      "text/plain": [
       "array([ 3.7, -1.2, -2.6,  0.5, 12.9, 10.1])"
      ]
     },
     "execution_count": 49,
     "metadata": {},
     "output_type": "execute_result"
    }
   ],
   "source": [
    "arr"
   ]
  },
  {
   "cell_type": "code",
   "execution_count": 50,
   "metadata": {},
   "outputs": [
    {
     "data": {
      "text/plain": [
       "array([ 3, -1, -2,  0, 12, 10])"
      ]
     },
     "execution_count": 50,
     "metadata": {},
     "output_type": "execute_result"
    }
   ],
   "source": [
    "arr.astype(np.int32)"
   ]
  },
  {
   "cell_type": "code",
   "execution_count": 51,
   "metadata": {},
   "outputs": [],
   "source": [
    "numeric_strings = np.array(['1.25', '-9.6', '42'])"
   ]
  },
  {
   "cell_type": "code",
   "execution_count": 52,
   "metadata": {},
   "outputs": [
    {
     "data": {
      "text/plain": [
       "array([ 1.25, -9.6 , 42.  ])"
      ]
     },
     "execution_count": 52,
     "metadata": {},
     "output_type": "execute_result"
    }
   ],
   "source": [
    "numeric_strings.astype(float)"
   ]
  },
  {
   "cell_type": "code",
   "execution_count": 54,
   "metadata": {},
   "outputs": [],
   "source": [
    "# numpy数组运算\n",
    "\n",
    "arr = np.array([[1,2,3],[4,5,6]])"
   ]
  },
  {
   "cell_type": "code",
   "execution_count": 55,
   "metadata": {},
   "outputs": [
    {
     "data": {
      "text/plain": [
       "array([[ 1,  4,  9],\n",
       "       [16, 25, 36]])"
      ]
     },
     "execution_count": 55,
     "metadata": {},
     "output_type": "execute_result"
    }
   ],
   "source": [
    "arr *arr"
   ]
  },
  {
   "cell_type": "code",
   "execution_count": 56,
   "metadata": {},
   "outputs": [
    {
     "data": {
      "text/plain": [
       "array([[0, 0, 0],\n",
       "       [0, 0, 0]])"
      ]
     },
     "execution_count": 56,
     "metadata": {},
     "output_type": "execute_result"
    }
   ],
   "source": [
    "arr - arr"
   ]
  },
  {
   "cell_type": "code",
   "execution_count": 57,
   "metadata": {},
   "outputs": [
    {
     "data": {
      "text/plain": [
       "array([[1.        , 0.5       , 0.33333333],\n",
       "       [0.25      , 0.2       , 0.16666667]])"
      ]
     },
     "execution_count": 57,
     "metadata": {},
     "output_type": "execute_result"
    }
   ],
   "source": [
    "1/arr"
   ]
  },
  {
   "cell_type": "code",
   "execution_count": 58,
   "metadata": {},
   "outputs": [
    {
     "data": {
      "text/plain": [
       "array([[0.5, 1. , 1.5],\n",
       "       [2. , 2.5, 3. ]])"
      ]
     },
     "execution_count": 58,
     "metadata": {},
     "output_type": "execute_result"
    }
   ],
   "source": [
    "arr * 0.5"
   ]
  },
  {
   "cell_type": "code",
   "execution_count": 59,
   "metadata": {},
   "outputs": [
    {
     "data": {
      "text/plain": [
       "array([1., 2., 3.], dtype=float32)"
      ]
     },
     "execution_count": 59,
     "metadata": {},
     "output_type": "execute_result"
    }
   ],
   "source": [
    "arr2  "
   ]
  },
  {
   "cell_type": "code",
   "execution_count": 60,
   "metadata": {},
   "outputs": [
    {
     "data": {
      "text/plain": [
       "array([[False, False, False],\n",
       "       [False, False, False]])"
      ]
     },
     "execution_count": 60,
     "metadata": {},
     "output_type": "execute_result"
    }
   ],
   "source": [
    "arr2 > arr # broadcasting"
   ]
  },
  {
   "cell_type": "code",
   "execution_count": null,
   "metadata": {},
   "outputs": [],
   "source": [
    "# 索引index"
   ]
  },
  {
   "cell_type": "code",
   "execution_count": 61,
   "metadata": {},
   "outputs": [],
   "source": [
    "arr = np. arange(10)"
   ]
  },
  {
   "cell_type": "code",
   "execution_count": 62,
   "metadata": {},
   "outputs": [
    {
     "data": {
      "text/plain": [
       "array([0, 1, 2, 3, 4, 5, 6, 7, 8, 9])"
      ]
     },
     "execution_count": 62,
     "metadata": {},
     "output_type": "execute_result"
    }
   ],
   "source": [
    "arr"
   ]
  },
  {
   "cell_type": "code",
   "execution_count": 63,
   "metadata": {},
   "outputs": [
    {
     "data": {
      "text/plain": [
       "array([5, 6, 7])"
      ]
     },
     "execution_count": 63,
     "metadata": {},
     "output_type": "execute_result"
    }
   ],
   "source": [
    "arr[5:8]"
   ]
  },
  {
   "cell_type": "code",
   "execution_count": 64,
   "metadata": {},
   "outputs": [
    {
     "data": {
      "text/plain": [
       "5"
      ]
     },
     "execution_count": 64,
     "metadata": {},
     "output_type": "execute_result"
    }
   ],
   "source": [
    "arr[5]"
   ]
  },
  {
   "cell_type": "code",
   "execution_count": 65,
   "metadata": {},
   "outputs": [],
   "source": [
    "arr[5:8]=12"
   ]
  },
  {
   "cell_type": "code",
   "execution_count": 66,
   "metadata": {},
   "outputs": [
    {
     "data": {
      "text/plain": [
       "array([ 0,  1,  2,  3,  4, 12, 12, 12,  8,  9])"
      ]
     },
     "execution_count": 66,
     "metadata": {},
     "output_type": "execute_result"
    }
   ],
   "source": [
    "arr"
   ]
  },
  {
   "cell_type": "code",
   "execution_count": 69,
   "metadata": {},
   "outputs": [
    {
     "data": {
      "text/plain": [
       "array([12, 12, 12])"
      ]
     },
     "execution_count": 69,
     "metadata": {},
     "output_type": "execute_result"
    }
   ],
   "source": [
    "arr_slice = arr[5:8]\n",
    "arr_slice"
   ]
  },
  {
   "cell_type": "code",
   "execution_count": 70,
   "metadata": {},
   "outputs": [],
   "source": [
    "arr_slice[1] = 12345"
   ]
  },
  {
   "cell_type": "raw",
   "metadata": {},
   "source": []
  },
  {
   "cell_type": "code",
   "execution_count": 71,
   "metadata": {},
   "outputs": [
    {
     "data": {
      "text/plain": [
       "array([    0,     1,     2,     3,     4,    12, 12345,    12,     8,\n",
       "           9])"
      ]
     },
     "execution_count": 71,
     "metadata": {},
     "output_type": "execute_result"
    }
   ],
   "source": [
    "arr # python指向同一内存区"
   ]
  },
  {
   "cell_type": "code",
   "execution_count": 72,
   "metadata": {},
   "outputs": [],
   "source": [
    "arr_slice[:]=64 #低效率复制列表"
   ]
  },
  {
   "cell_type": "code",
   "execution_count": 73,
   "metadata": {},
   "outputs": [
    {
     "data": {
      "text/plain": [
       "array([ 0,  1,  2,  3,  4, 64, 64, 64,  8,  9])"
      ]
     },
     "execution_count": 73,
     "metadata": {},
     "output_type": "execute_result"
    }
   ],
   "source": [
    "arr"
   ]
  },
  {
   "cell_type": "code",
   "execution_count": 78,
   "metadata": {},
   "outputs": [],
   "source": [
    "arr2d = np.array([[1,2,3],[4,5,6],[7,8,9]])"
   ]
  },
  {
   "cell_type": "code",
   "execution_count": 79,
   "metadata": {},
   "outputs": [
    {
     "data": {
      "text/plain": [
       "2"
      ]
     },
     "execution_count": 79,
     "metadata": {},
     "output_type": "execute_result"
    }
   ],
   "source": [
    "arr2d.ndim"
   ]
  },
  {
   "cell_type": "code",
   "execution_count": 80,
   "metadata": {},
   "outputs": [
    {
     "data": {
      "text/plain": [
       "array([7, 8, 9])"
      ]
     },
     "execution_count": 80,
     "metadata": {},
     "output_type": "execute_result"
    }
   ],
   "source": [
    "arr2d[2]"
   ]
  },
  {
   "cell_type": "code",
   "execution_count": 81,
   "metadata": {},
   "outputs": [
    {
     "data": {
      "text/plain": [
       "3"
      ]
     },
     "execution_count": 81,
     "metadata": {},
     "output_type": "execute_result"
    }
   ],
   "source": [
    "arr2d[0][2]"
   ]
  },
  {
   "cell_type": "code",
   "execution_count": 82,
   "metadata": {},
   "outputs": [],
   "source": [
    "arr3d = np.array([[[1,2,3],[4,5,6]],[[7,8,9],[10,11,12]]])"
   ]
  },
  {
   "cell_type": "code",
   "execution_count": 83,
   "metadata": {},
   "outputs": [
    {
     "data": {
      "text/plain": [
       "array([[[ 1,  2,  3],\n",
       "        [ 4,  5,  6]],\n",
       "\n",
       "       [[ 7,  8,  9],\n",
       "        [10, 11, 12]]])"
      ]
     },
     "execution_count": 83,
     "metadata": {},
     "output_type": "execute_result"
    }
   ],
   "source": [
    "arr3d"
   ]
  },
  {
   "cell_type": "code",
   "execution_count": 84,
   "metadata": {},
   "outputs": [
    {
     "data": {
      "text/plain": [
       "3"
      ]
     },
     "execution_count": 84,
     "metadata": {},
     "output_type": "execute_result"
    }
   ],
   "source": [
    "arr3d.ndim"
   ]
  },
  {
   "cell_type": "code",
   "execution_count": 85,
   "metadata": {},
   "outputs": [
    {
     "data": {
      "text/plain": [
       "array([[1, 2, 3],\n",
       "       [4, 5, 6]])"
      ]
     },
     "execution_count": 85,
     "metadata": {},
     "output_type": "execute_result"
    }
   ],
   "source": [
    "arr3d[0]"
   ]
  },
  {
   "cell_type": "code",
   "execution_count": 86,
   "metadata": {},
   "outputs": [],
   "source": [
    "old_values = arr3d[0].copy()  #高效复制array"
   ]
  },
  {
   "cell_type": "code",
   "execution_count": 87,
   "metadata": {},
   "outputs": [
    {
     "data": {
      "text/plain": [
       "array([[1, 2, 3],\n",
       "       [4, 5, 6]])"
      ]
     },
     "execution_count": 87,
     "metadata": {},
     "output_type": "execute_result"
    }
   ],
   "source": [
    "old_values"
   ]
  },
  {
   "cell_type": "code",
   "execution_count": 88,
   "metadata": {},
   "outputs": [],
   "source": [
    "arr3d[0]=old_values"
   ]
  },
  {
   "cell_type": "code",
   "execution_count": 89,
   "metadata": {},
   "outputs": [
    {
     "data": {
      "text/plain": [
       "array([[[ 1,  2,  3],\n",
       "        [ 4,  5,  6]],\n",
       "\n",
       "       [[ 7,  8,  9],\n",
       "        [10, 11, 12]]])"
      ]
     },
     "execution_count": 89,
     "metadata": {},
     "output_type": "execute_result"
    }
   ],
   "source": [
    "arr3d"
   ]
  },
  {
   "cell_type": "code",
   "execution_count": 90,
   "metadata": {},
   "outputs": [
    {
     "data": {
      "text/plain": [
       "array([7, 8, 9])"
      ]
     },
     "execution_count": 90,
     "metadata": {},
     "output_type": "execute_result"
    }
   ],
   "source": [
    "arr3d[1,0]"
   ]
  },
  {
   "cell_type": "code",
   "execution_count": 91,
   "metadata": {},
   "outputs": [
    {
     "data": {
      "text/plain": [
       "array([ 0,  1,  2,  3,  4, 64, 64, 64,  8,  9])"
      ]
     },
     "execution_count": 91,
     "metadata": {},
     "output_type": "execute_result"
    }
   ],
   "source": [
    "#切片索引\n",
    "arr\n"
   ]
  },
  {
   "cell_type": "code",
   "execution_count": 92,
   "metadata": {},
   "outputs": [
    {
     "data": {
      "text/plain": [
       "array([ 1,  2,  3,  4, 64])"
      ]
     },
     "execution_count": 92,
     "metadata": {},
     "output_type": "execute_result"
    }
   ],
   "source": [
    "arr[1:6]"
   ]
  },
  {
   "cell_type": "code",
   "execution_count": 93,
   "metadata": {},
   "outputs": [
    {
     "data": {
      "text/plain": [
       "array([[1, 2, 3],\n",
       "       [4, 5, 6],\n",
       "       [7, 8, 9]])"
      ]
     },
     "execution_count": 93,
     "metadata": {},
     "output_type": "execute_result"
    }
   ],
   "source": [
    "arr2d"
   ]
  },
  {
   "cell_type": "code",
   "execution_count": 94,
   "metadata": {},
   "outputs": [
    {
     "data": {
      "text/plain": [
       "array([[1, 2, 3],\n",
       "       [4, 5, 6]])"
      ]
     },
     "execution_count": 94,
     "metadata": {},
     "output_type": "execute_result"
    }
   ],
   "source": [
    "arr2d[:2]"
   ]
  },
  {
   "cell_type": "code",
   "execution_count": 95,
   "metadata": {},
   "outputs": [
    {
     "data": {
      "text/plain": [
       "array([[2, 3],\n",
       "       [5, 6]])"
      ]
     },
     "execution_count": 95,
     "metadata": {},
     "output_type": "execute_result"
    }
   ],
   "source": [
    "arr2d[:2,1:] #### 取行；列"
   ]
  },
  {
   "cell_type": "code",
   "execution_count": 96,
   "metadata": {},
   "outputs": [
    {
     "data": {
      "text/plain": [
       "array([4, 5])"
      ]
     },
     "execution_count": 96,
     "metadata": {},
     "output_type": "execute_result"
    }
   ],
   "source": [
    "arr2d[1, :2]"
   ]
  },
  {
   "cell_type": "code",
   "execution_count": 98,
   "metadata": {},
   "outputs": [
    {
     "data": {
      "text/plain": [
       "array([3, 6])"
      ]
     },
     "execution_count": 98,
     "metadata": {},
     "output_type": "execute_result"
    }
   ],
   "source": [
    "arr2d[:2,2]"
   ]
  },
  {
   "cell_type": "code",
   "execution_count": 99,
   "metadata": {},
   "outputs": [
    {
     "data": {
      "text/plain": [
       "array([2, 5])"
      ]
     },
     "execution_count": 99,
     "metadata": {},
     "output_type": "execute_result"
    }
   ],
   "source": [
    "arr2d[:2,1]"
   ]
  },
  {
   "cell_type": "code",
   "execution_count": 100,
   "metadata": {},
   "outputs": [
    {
     "data": {
      "text/plain": [
       "5"
      ]
     },
     "execution_count": 100,
     "metadata": {},
     "output_type": "execute_result"
    }
   ],
   "source": [
    "arr2d[:2,1][1]"
   ]
  },
  {
   "cell_type": "code",
   "execution_count": 101,
   "metadata": {},
   "outputs": [],
   "source": [
    "arr2d[:2, 1:] = 0"
   ]
  },
  {
   "cell_type": "code",
   "execution_count": 102,
   "metadata": {},
   "outputs": [
    {
     "data": {
      "text/plain": [
       "array([[1, 0, 0],\n",
       "       [4, 0, 0],\n",
       "       [7, 8, 9]])"
      ]
     },
     "execution_count": 102,
     "metadata": {},
     "output_type": "execute_result"
    }
   ],
   "source": [
    "arr2d"
   ]
  },
  {
   "cell_type": "code",
   "execution_count": 103,
   "metadata": {},
   "outputs": [],
   "source": [
    "## 布尔索引\n",
    "\n",
    "names = np.array(['Bob', 'Joe', 'Will', 'Bob', 'Will', 'Joe','Joe'])"
   ]
  },
  {
   "cell_type": "code",
   "execution_count": 104,
   "metadata": {},
   "outputs": [],
   "source": [
    "data = np. random.randn(7,4)"
   ]
  },
  {
   "cell_type": "code",
   "execution_count": 105,
   "metadata": {},
   "outputs": [
    {
     "data": {
      "text/plain": [
       "array(['Bob', 'Joe', 'Will', 'Bob', 'Will', 'Joe', 'Joe'], dtype='<U4')"
      ]
     },
     "execution_count": 105,
     "metadata": {},
     "output_type": "execute_result"
    }
   ],
   "source": [
    "names"
   ]
  },
  {
   "cell_type": "code",
   "execution_count": 106,
   "metadata": {},
   "outputs": [
    {
     "data": {
      "text/plain": [
       "array([[ 0.05836896,  0.73721745, -0.45324898,  0.7753557 ],\n",
       "       [ 0.01629484,  1.0330343 , -0.45199526, -1.30932465],\n",
       "       [ 1.31355193,  1.53482268, -0.05805855, -0.09335479],\n",
       "       [-1.08984196, -0.82081657,  0.88555709, -0.63355688],\n",
       "       [-1.82853174,  2.16751304, -0.42557115, -0.87765302],\n",
       "       [-1.79727051, -0.55339696, -1.6270434 , -0.29497245],\n",
       "       [-0.59808892, -0.3285025 ,  0.23597326, -3.17992175]])"
      ]
     },
     "execution_count": 106,
     "metadata": {},
     "output_type": "execute_result"
    }
   ],
   "source": [
    "data"
   ]
  },
  {
   "cell_type": "code",
   "execution_count": 107,
   "metadata": {},
   "outputs": [
    {
     "data": {
      "text/plain": [
       "array([ True, False, False,  True, False, False, False])"
      ]
     },
     "execution_count": 107,
     "metadata": {},
     "output_type": "execute_result"
    }
   ],
   "source": [
    "names=='Bob'"
   ]
  },
  {
   "cell_type": "code",
   "execution_count": 108,
   "metadata": {},
   "outputs": [
    {
     "data": {
      "text/plain": [
       "array([[ 0.05836896,  0.73721745, -0.45324898,  0.7753557 ],\n",
       "       [-1.08984196, -0.82081657,  0.88555709, -0.63355688]])"
      ]
     },
     "execution_count": 108,
     "metadata": {},
     "output_type": "execute_result"
    }
   ],
   "source": [
    "data[names == 'Bob']  # 建立对应关系"
   ]
  },
  {
   "cell_type": "code",
   "execution_count": 110,
   "metadata": {},
   "outputs": [
    {
     "data": {
      "text/plain": [
       "array([[-0.45324898,  0.7753557 ],\n",
       "       [ 0.88555709, -0.63355688]])"
      ]
     },
     "execution_count": 110,
     "metadata": {},
     "output_type": "execute_result"
    }
   ],
   "source": [
    "data[names == 'Bob',2:]"
   ]
  },
  {
   "cell_type": "code",
   "execution_count": 111,
   "metadata": {},
   "outputs": [
    {
     "data": {
      "text/plain": [
       "array([ 0.7753557 , -0.63355688])"
      ]
     },
     "execution_count": 111,
     "metadata": {},
     "output_type": "execute_result"
    }
   ],
   "source": [
    "data[names == 'Bob',3]"
   ]
  },
  {
   "cell_type": "code",
   "execution_count": 112,
   "metadata": {},
   "outputs": [
    {
     "data": {
      "text/plain": [
       "array([False,  True,  True, False,  True,  True,  True])"
      ]
     },
     "execution_count": 112,
     "metadata": {},
     "output_type": "execute_result"
    }
   ],
   "source": [
    "names != 'Bob'"
   ]
  },
  {
   "cell_type": "code",
   "execution_count": 113,
   "metadata": {},
   "outputs": [
    {
     "data": {
      "text/plain": [
       "array([[ 0.01629484,  1.0330343 , -0.45199526, -1.30932465],\n",
       "       [ 1.31355193,  1.53482268, -0.05805855, -0.09335479],\n",
       "       [-1.82853174,  2.16751304, -0.42557115, -0.87765302],\n",
       "       [-1.79727051, -0.55339696, -1.6270434 , -0.29497245],\n",
       "       [-0.59808892, -0.3285025 ,  0.23597326, -3.17992175]])"
      ]
     },
     "execution_count": 113,
     "metadata": {},
     "output_type": "execute_result"
    }
   ],
   "source": [
    "data[~(names == 'Bob')]"
   ]
  },
  {
   "cell_type": "code",
   "execution_count": 114,
   "metadata": {},
   "outputs": [],
   "source": [
    "cond = names == 'Bob'"
   ]
  },
  {
   "cell_type": "code",
   "execution_count": 115,
   "metadata": {},
   "outputs": [
    {
     "data": {
      "text/plain": [
       "array([[ 0.01629484,  1.0330343 , -0.45199526, -1.30932465],\n",
       "       [ 1.31355193,  1.53482268, -0.05805855, -0.09335479],\n",
       "       [-1.82853174,  2.16751304, -0.42557115, -0.87765302],\n",
       "       [-1.79727051, -0.55339696, -1.6270434 , -0.29497245],\n",
       "       [-0.59808892, -0.3285025 ,  0.23597326, -3.17992175]])"
      ]
     },
     "execution_count": 115,
     "metadata": {},
     "output_type": "execute_result"
    }
   ],
   "source": [
    "data[~cond]"
   ]
  },
  {
   "cell_type": "code",
   "execution_count": 116,
   "metadata": {},
   "outputs": [],
   "source": [
    "mask = (names == 'Bob') | (names == 'Will')"
   ]
  },
  {
   "cell_type": "code",
   "execution_count": 117,
   "metadata": {},
   "outputs": [
    {
     "data": {
      "text/plain": [
       "array([ True, False,  True,  True,  True, False, False])"
      ]
     },
     "execution_count": 117,
     "metadata": {},
     "output_type": "execute_result"
    }
   ],
   "source": [
    "mask"
   ]
  },
  {
   "cell_type": "code",
   "execution_count": 118,
   "metadata": {},
   "outputs": [
    {
     "data": {
      "text/plain": [
       "array([[ 0.05836896,  0.73721745, -0.45324898,  0.7753557 ],\n",
       "       [ 1.31355193,  1.53482268, -0.05805855, -0.09335479],\n",
       "       [-1.08984196, -0.82081657,  0.88555709, -0.63355688],\n",
       "       [-1.82853174,  2.16751304, -0.42557115, -0.87765302]])"
      ]
     },
     "execution_count": 118,
     "metadata": {},
     "output_type": "execute_result"
    }
   ],
   "source": [
    "data[mask]"
   ]
  },
  {
   "cell_type": "code",
   "execution_count": 119,
   "metadata": {},
   "outputs": [],
   "source": [
    "data[data < 0] = 0"
   ]
  },
  {
   "cell_type": "code",
   "execution_count": 120,
   "metadata": {},
   "outputs": [
    {
     "data": {
      "text/plain": [
       "array([[0.05836896, 0.73721745, 0.        , 0.7753557 ],\n",
       "       [0.01629484, 1.0330343 , 0.        , 0.        ],\n",
       "       [1.31355193, 1.53482268, 0.        , 0.        ],\n",
       "       [0.        , 0.        , 0.88555709, 0.        ],\n",
       "       [0.        , 2.16751304, 0.        , 0.        ],\n",
       "       [0.        , 0.        , 0.        , 0.        ],\n",
       "       [0.        , 0.        , 0.23597326, 0.        ]])"
      ]
     },
     "execution_count": 120,
     "metadata": {},
     "output_type": "execute_result"
    }
   ],
   "source": [
    "data"
   ]
  },
  {
   "cell_type": "code",
   "execution_count": 121,
   "metadata": {},
   "outputs": [
    {
     "data": {
      "text/plain": [
       "array([[7.        , 7.        , 7.        , 7.        ],\n",
       "       [0.01629484, 1.0330343 , 0.        , 0.        ],\n",
       "       [7.        , 7.        , 7.        , 7.        ],\n",
       "       [7.        , 7.        , 7.        , 7.        ],\n",
       "       [7.        , 7.        , 7.        , 7.        ],\n",
       "       [0.        , 0.        , 0.        , 0.        ],\n",
       "       [0.        , 0.        , 0.23597326, 0.        ]])"
      ]
     },
     "execution_count": 121,
     "metadata": {},
     "output_type": "execute_result"
    }
   ],
   "source": [
    "data[names != 'Joe'] = 7\n",
    "data"
   ]
  },
  {
   "cell_type": "code",
   "execution_count": 122,
   "metadata": {},
   "outputs": [],
   "source": [
    "\n",
    "\n",
    "arr = np.empty((8,4))\n",
    "\n",
    "for i in range(8):\n",
    "    arr[i] = i"
   ]
  },
  {
   "cell_type": "code",
   "execution_count": 123,
   "metadata": {},
   "outputs": [
    {
     "data": {
      "text/plain": [
       "array([[0., 0., 0., 0.],\n",
       "       [1., 1., 1., 1.],\n",
       "       [2., 2., 2., 2.],\n",
       "       [3., 3., 3., 3.],\n",
       "       [4., 4., 4., 4.],\n",
       "       [5., 5., 5., 5.],\n",
       "       [6., 6., 6., 6.],\n",
       "       [7., 7., 7., 7.]])"
      ]
     },
     "execution_count": 123,
     "metadata": {},
     "output_type": "execute_result"
    }
   ],
   "source": [
    "arr"
   ]
  },
  {
   "cell_type": "code",
   "execution_count": 124,
   "metadata": {},
   "outputs": [
    {
     "data": {
      "text/plain": [
       "array([[4., 4., 4., 4.],\n",
       "       [3., 3., 3., 3.],\n",
       "       [0., 0., 0., 0.],\n",
       "       [6., 6., 6., 6.]])"
      ]
     },
     "execution_count": 124,
     "metadata": {},
     "output_type": "execute_result"
    }
   ],
   "source": [
    "arr[[4,3,0,6]]"
   ]
  },
  {
   "cell_type": "code",
   "execution_count": 125,
   "metadata": {},
   "outputs": [
    {
     "data": {
      "text/plain": [
       "array([[5., 5., 5., 5.],\n",
       "       [3., 3., 3., 3.],\n",
       "       [1., 1., 1., 1.]])"
      ]
     },
     "execution_count": 125,
     "metadata": {},
     "output_type": "execute_result"
    }
   ],
   "source": [
    "arr[[-3,-5,-7]]"
   ]
  },
  {
   "cell_type": "code",
   "execution_count": 126,
   "metadata": {},
   "outputs": [
    {
     "data": {
      "text/plain": [
       "array([[ 0,  1,  2,  3],\n",
       "       [ 4,  5,  6,  7],\n",
       "       [ 8,  9, 10, 11],\n",
       "       [12, 13, 14, 15],\n",
       "       [16, 17, 18, 19],\n",
       "       [20, 21, 22, 23],\n",
       "       [24, 25, 26, 27],\n",
       "       [28, 29, 30, 31]])"
      ]
     },
     "execution_count": 126,
     "metadata": {},
     "output_type": "execute_result"
    }
   ],
   "source": [
    "arr = np.arange(32).reshape((8, 4))\n",
    "arr"
   ]
  },
  {
   "cell_type": "code",
   "execution_count": 127,
   "metadata": {},
   "outputs": [
    {
     "data": {
      "text/plain": [
       "array([ 4, 23, 29, 10])"
      ]
     },
     "execution_count": 127,
     "metadata": {},
     "output_type": "execute_result"
    }
   ],
   "source": [
    "arr[[1, 5, 7, 2], [0, 3, 1, 2]] "
   ]
  },
  {
   "cell_type": "code",
   "execution_count": null,
   "metadata": {},
   "outputs": [],
   "source": [
    "####   转置"
   ]
  },
  {
   "cell_type": "code",
   "execution_count": 128,
   "metadata": {},
   "outputs": [
    {
     "data": {
      "text/plain": [
       "array([[ 0,  1,  2,  3,  4],\n",
       "       [ 5,  6,  7,  8,  9],\n",
       "       [10, 11, 12, 13, 14]])"
      ]
     },
     "execution_count": 128,
     "metadata": {},
     "output_type": "execute_result"
    }
   ],
   "source": [
    "arr = np.arange(15).reshape((3,5))\n",
    "arr"
   ]
  },
  {
   "cell_type": "code",
   "execution_count": 129,
   "metadata": {},
   "outputs": [
    {
     "data": {
      "text/plain": [
       "array([[ 0,  5, 10],\n",
       "       [ 1,  6, 11],\n",
       "       [ 2,  7, 12],\n",
       "       [ 3,  8, 13],\n",
       "       [ 4,  9, 14]])"
      ]
     },
     "execution_count": 129,
     "metadata": {},
     "output_type": "execute_result"
    }
   ],
   "source": [
    "arr.T"
   ]
  },
  {
   "cell_type": "code",
   "execution_count": 130,
   "metadata": {},
   "outputs": [
    {
     "data": {
      "text/plain": [
       "array([[-1.79539416,  0.98748492,  0.8384311 ],\n",
       "       [-1.94796573, -0.01659703,  1.46722071],\n",
       "       [ 0.534343  ,  0.95520203,  0.53291722],\n",
       "       [ 0.02914359,  1.48122689, -1.1079649 ],\n",
       "       [ 0.03472612, -0.40382147,  2.22357571],\n",
       "       [-1.29968146,  0.78888994, -0.60065815]])"
      ]
     },
     "execution_count": 130,
     "metadata": {},
     "output_type": "execute_result"
    }
   ],
   "source": [
    "arr = np.random.randn(6,3)\n",
    "arr"
   ]
  },
  {
   "cell_type": "code",
   "execution_count": 131,
   "metadata": {},
   "outputs": [
    {
     "data": {
      "text/plain": [
       "array([[ 8.99476025, -2.22634919, -3.25305904],\n",
       "       [-2.22634919,  4.86726507, -1.70029801],\n",
       "       [-3.25305904, -1.70029801,  9.67236948]])"
      ]
     },
     "execution_count": 131,
     "metadata": {},
     "output_type": "execute_result"
    }
   ],
   "source": [
    "np.dot(arr.T,arr)"
   ]
  },
  {
   "cell_type": "code",
   "execution_count": 132,
   "metadata": {},
   "outputs": [],
   "source": [
    "arr = np.arange(16).reshape((2,2,4))"
   ]
  },
  {
   "cell_type": "code",
   "execution_count": 133,
   "metadata": {},
   "outputs": [
    {
     "data": {
      "text/plain": [
       "array([[[ 0,  1,  2,  3],\n",
       "        [ 4,  5,  6,  7]],\n",
       "\n",
       "       [[ 8,  9, 10, 11],\n",
       "        [12, 13, 14, 15]]])"
      ]
     },
     "execution_count": 133,
     "metadata": {},
     "output_type": "execute_result"
    }
   ],
   "source": [
    "arr"
   ]
  },
  {
   "cell_type": "code",
   "execution_count": 134,
   "metadata": {},
   "outputs": [
    {
     "data": {
      "text/plain": [
       "3"
      ]
     },
     "execution_count": 134,
     "metadata": {},
     "output_type": "execute_result"
    }
   ],
   "source": [
    "arr.ndim"
   ]
  },
  {
   "cell_type": "code",
   "execution_count": 135,
   "metadata": {},
   "outputs": [
    {
     "data": {
      "text/plain": [
       "array([[[ 0,  1,  2,  3],\n",
       "        [ 8,  9, 10, 11]],\n",
       "\n",
       "       [[ 4,  5,  6,  7],\n",
       "        [12, 13, 14, 15]]])"
      ]
     },
     "execution_count": 135,
     "metadata": {},
     "output_type": "execute_result"
    }
   ],
   "source": [
    "arr.transpose((1,0,2))"
   ]
  },
  {
   "cell_type": "code",
   "execution_count": 136,
   "metadata": {},
   "outputs": [
    {
     "data": {
      "text/plain": [
       "array([[[ 0,  4],\n",
       "        [ 8, 12]],\n",
       "\n",
       "       [[ 1,  5],\n",
       "        [ 9, 13]],\n",
       "\n",
       "       [[ 2,  6],\n",
       "        [10, 14]],\n",
       "\n",
       "       [[ 3,  7],\n",
       "        [11, 15]]])"
      ]
     },
     "execution_count": 136,
     "metadata": {},
     "output_type": "execute_result"
    }
   ],
   "source": [
    "arr.transpose((2,0,1))"
   ]
  },
  {
   "cell_type": "code",
   "execution_count": 137,
   "metadata": {},
   "outputs": [
    {
     "data": {
      "text/plain": [
       "array([[[ 0,  1,  2,  3],\n",
       "        [ 4,  5,  6,  7]],\n",
       "\n",
       "       [[ 8,  9, 10, 11],\n",
       "        [12, 13, 14, 15]]])"
      ]
     },
     "execution_count": 137,
     "metadata": {},
     "output_type": "execute_result"
    }
   ],
   "source": [
    "arr\n"
   ]
  },
  {
   "cell_type": "code",
   "execution_count": 138,
   "metadata": {},
   "outputs": [
    {
     "data": {
      "text/plain": [
       "array([[[ 0,  4],\n",
       "        [ 1,  5],\n",
       "        [ 2,  6],\n",
       "        [ 3,  7]],\n",
       "\n",
       "       [[ 8, 12],\n",
       "        [ 9, 13],\n",
       "        [10, 14],\n",
       "        [11, 15]]])"
      ]
     },
     "execution_count": 138,
     "metadata": {},
     "output_type": "execute_result"
    }
   ],
   "source": [
    "arr.swapaxes(1,2)"
   ]
  },
  {
   "cell_type": "code",
   "execution_count": 139,
   "metadata": {},
   "outputs": [
    {
     "data": {
      "text/plain": [
       "array([[[ 0,  1,  2,  3],\n",
       "        [ 8,  9, 10, 11]],\n",
       "\n",
       "       [[ 4,  5,  6,  7],\n",
       "        [12, 13, 14, 15]]])"
      ]
     },
     "execution_count": 139,
     "metadata": {},
     "output_type": "execute_result"
    }
   ],
   "source": [
    "arr.swapaxes(0,1)"
   ]
  },
  {
   "cell_type": "code",
   "execution_count": 140,
   "metadata": {},
   "outputs": [
    {
     "data": {
      "text/plain": [
       "array([[[ 0,  8],\n",
       "        [ 4, 12]],\n",
       "\n",
       "       [[ 1,  9],\n",
       "        [ 5, 13]],\n",
       "\n",
       "       [[ 2, 10],\n",
       "        [ 6, 14]],\n",
       "\n",
       "       [[ 3, 11],\n",
       "        [ 7, 15]]])"
      ]
     },
     "execution_count": 140,
     "metadata": {},
     "output_type": "execute_result"
    }
   ],
   "source": [
    "arr.swapaxes(0,2)"
   ]
  },
  {
   "cell_type": "code",
   "execution_count": 141,
   "metadata": {},
   "outputs": [],
   "source": [
    "arr = np.arange(10)"
   ]
  },
  {
   "cell_type": "code",
   "execution_count": 142,
   "metadata": {},
   "outputs": [
    {
     "data": {
      "text/plain": [
       "array([0, 1, 2, 3, 4, 5, 6, 7, 8, 9])"
      ]
     },
     "execution_count": 142,
     "metadata": {},
     "output_type": "execute_result"
    }
   ],
   "source": [
    "arr"
   ]
  },
  {
   "cell_type": "code",
   "execution_count": 143,
   "metadata": {},
   "outputs": [
    {
     "data": {
      "text/plain": [
       "array([0.        , 1.        , 1.41421356, 1.73205081, 2.        ,\n",
       "       2.23606798, 2.44948974, 2.64575131, 2.82842712, 3.        ])"
      ]
     },
     "execution_count": 143,
     "metadata": {},
     "output_type": "execute_result"
    }
   ],
   "source": [
    "np.sqrt(arr)"
   ]
  },
  {
   "cell_type": "code",
   "execution_count": 144,
   "metadata": {},
   "outputs": [
    {
     "data": {
      "text/plain": [
       "array([1.00000000e+00, 2.71828183e+00, 7.38905610e+00, 2.00855369e+01,\n",
       "       5.45981500e+01, 1.48413159e+02, 4.03428793e+02, 1.09663316e+03,\n",
       "       2.98095799e+03, 8.10308393e+03])"
      ]
     },
     "execution_count": 144,
     "metadata": {},
     "output_type": "execute_result"
    }
   ],
   "source": [
    "np.exp(arr)"
   ]
  },
  {
   "cell_type": "code",
   "execution_count": 145,
   "metadata": {},
   "outputs": [],
   "source": [
    "x = np.random.randn(8)"
   ]
  },
  {
   "cell_type": "code",
   "execution_count": 146,
   "metadata": {},
   "outputs": [],
   "source": [
    "y = np.random.randn(8)"
   ]
  },
  {
   "cell_type": "code",
   "execution_count": 148,
   "metadata": {},
   "outputs": [
    {
     "data": {
      "text/plain": [
       "array([ 0.77868727, -0.32260986,  0.77057122,  1.08174999,  1.6592667 ,\n",
       "       -2.48076134,  1.11408891,  0.02583436])"
      ]
     },
     "execution_count": 148,
     "metadata": {},
     "output_type": "execute_result"
    }
   ],
   "source": [
    "x"
   ]
  },
  {
   "cell_type": "code",
   "execution_count": 149,
   "metadata": {},
   "outputs": [
    {
     "data": {
      "text/plain": [
       "array([ 0.05445558,  0.97210236, -2.01553512, -2.0491477 , -1.09988392,\n",
       "       -0.77985762, -0.8292205 ,  0.85335498])"
      ]
     },
     "execution_count": 149,
     "metadata": {},
     "output_type": "execute_result"
    }
   ],
   "source": [
    "y"
   ]
  },
  {
   "cell_type": "code",
   "execution_count": 150,
   "metadata": {},
   "outputs": [
    {
     "data": {
      "text/plain": [
       "array([ 0.77868727,  0.97210236,  0.77057122,  1.08174999,  1.6592667 ,\n",
       "       -0.77985762,  1.11408891,  0.85335498])"
      ]
     },
     "execution_count": 150,
     "metadata": {},
     "output_type": "execute_result"
    }
   ],
   "source": [
    "np.maximum(x,y)"
   ]
  },
  {
   "cell_type": "code",
   "execution_count": 151,
   "metadata": {},
   "outputs": [],
   "source": [
    "arr = np.random.randn(7)*5"
   ]
  },
  {
   "cell_type": "code",
   "execution_count": 152,
   "metadata": {},
   "outputs": [
    {
     "data": {
      "text/plain": [
       "array([  0.80383257,   3.83282162, -10.10545311,  -7.03045704,\n",
       "        -0.71826308,  -3.95521649,  -5.81611461])"
      ]
     },
     "execution_count": 152,
     "metadata": {},
     "output_type": "execute_result"
    }
   ],
   "source": [
    "arr"
   ]
  },
  {
   "cell_type": "code",
   "execution_count": 153,
   "metadata": {},
   "outputs": [],
   "source": [
    "remainder, whole_part = np.modf(arr)"
   ]
  },
  {
   "cell_type": "code",
   "execution_count": 154,
   "metadata": {},
   "outputs": [
    {
     "data": {
      "text/plain": [
       "array([ 0.80383257,  0.83282162, -0.10545311, -0.03045704, -0.71826308,\n",
       "       -0.95521649, -0.81611461])"
      ]
     },
     "execution_count": 154,
     "metadata": {},
     "output_type": "execute_result"
    }
   ],
   "source": [
    "remainder"
   ]
  },
  {
   "cell_type": "code",
   "execution_count": 155,
   "metadata": {},
   "outputs": [
    {
     "data": {
      "text/plain": [
       "array([  0.,   3., -10.,  -7.,  -0.,  -3.,  -5.])"
      ]
     },
     "execution_count": 155,
     "metadata": {},
     "output_type": "execute_result"
    }
   ],
   "source": [
    "whole_part"
   ]
  },
  {
   "cell_type": "code",
   "execution_count": 156,
   "metadata": {},
   "outputs": [
    {
     "name": "stderr",
     "output_type": "stream",
     "text": [
      "D:\\APP\\Anaconda3\\lib\\site-packages\\ipykernel_launcher.py:1: RuntimeWarning: invalid value encountered in sqrt\n",
      "  \"\"\"Entry point for launching an IPython kernel.\n"
     ]
    },
    {
     "data": {
      "text/plain": [
       "array([0.8965671 , 1.95775934,        nan,        nan,        nan,\n",
       "              nan,        nan])"
      ]
     },
     "execution_count": 156,
     "metadata": {},
     "output_type": "execute_result"
    }
   ],
   "source": [
    "np.sqrt(arr)"
   ]
  },
  {
   "cell_type": "code",
   "execution_count": 157,
   "metadata": {},
   "outputs": [],
   "source": [
    "points = np.arange(-5,5,0.01)"
   ]
  },
  {
   "cell_type": "code",
   "execution_count": 158,
   "metadata": {},
   "outputs": [
    {
     "data": {
      "text/plain": [
       "array([-5.0000000e+00, -4.9900000e+00, -4.9800000e+00, -4.9700000e+00,\n",
       "       -4.9600000e+00, -4.9500000e+00, -4.9400000e+00, -4.9300000e+00,\n",
       "       -4.9200000e+00, -4.9100000e+00, -4.9000000e+00, -4.8900000e+00,\n",
       "       -4.8800000e+00, -4.8700000e+00, -4.8600000e+00, -4.8500000e+00,\n",
       "       -4.8400000e+00, -4.8300000e+00, -4.8200000e+00, -4.8100000e+00,\n",
       "       -4.8000000e+00, -4.7900000e+00, -4.7800000e+00, -4.7700000e+00,\n",
       "       -4.7600000e+00, -4.7500000e+00, -4.7400000e+00, -4.7300000e+00,\n",
       "       -4.7200000e+00, -4.7100000e+00, -4.7000000e+00, -4.6900000e+00,\n",
       "       -4.6800000e+00, -4.6700000e+00, -4.6600000e+00, -4.6500000e+00,\n",
       "       -4.6400000e+00, -4.6300000e+00, -4.6200000e+00, -4.6100000e+00,\n",
       "       -4.6000000e+00, -4.5900000e+00, -4.5800000e+00, -4.5700000e+00,\n",
       "       -4.5600000e+00, -4.5500000e+00, -4.5400000e+00, -4.5300000e+00,\n",
       "       -4.5200000e+00, -4.5100000e+00, -4.5000000e+00, -4.4900000e+00,\n",
       "       -4.4800000e+00, -4.4700000e+00, -4.4600000e+00, -4.4500000e+00,\n",
       "       -4.4400000e+00, -4.4300000e+00, -4.4200000e+00, -4.4100000e+00,\n",
       "       -4.4000000e+00, -4.3900000e+00, -4.3800000e+00, -4.3700000e+00,\n",
       "       -4.3600000e+00, -4.3500000e+00, -4.3400000e+00, -4.3300000e+00,\n",
       "       -4.3200000e+00, -4.3100000e+00, -4.3000000e+00, -4.2900000e+00,\n",
       "       -4.2800000e+00, -4.2700000e+00, -4.2600000e+00, -4.2500000e+00,\n",
       "       -4.2400000e+00, -4.2300000e+00, -4.2200000e+00, -4.2100000e+00,\n",
       "       -4.2000000e+00, -4.1900000e+00, -4.1800000e+00, -4.1700000e+00,\n",
       "       -4.1600000e+00, -4.1500000e+00, -4.1400000e+00, -4.1300000e+00,\n",
       "       -4.1200000e+00, -4.1100000e+00, -4.1000000e+00, -4.0900000e+00,\n",
       "       -4.0800000e+00, -4.0700000e+00, -4.0600000e+00, -4.0500000e+00,\n",
       "       -4.0400000e+00, -4.0300000e+00, -4.0200000e+00, -4.0100000e+00,\n",
       "       -4.0000000e+00, -3.9900000e+00, -3.9800000e+00, -3.9700000e+00,\n",
       "       -3.9600000e+00, -3.9500000e+00, -3.9400000e+00, -3.9300000e+00,\n",
       "       -3.9200000e+00, -3.9100000e+00, -3.9000000e+00, -3.8900000e+00,\n",
       "       -3.8800000e+00, -3.8700000e+00, -3.8600000e+00, -3.8500000e+00,\n",
       "       -3.8400000e+00, -3.8300000e+00, -3.8200000e+00, -3.8100000e+00,\n",
       "       -3.8000000e+00, -3.7900000e+00, -3.7800000e+00, -3.7700000e+00,\n",
       "       -3.7600000e+00, -3.7500000e+00, -3.7400000e+00, -3.7300000e+00,\n",
       "       -3.7200000e+00, -3.7100000e+00, -3.7000000e+00, -3.6900000e+00,\n",
       "       -3.6800000e+00, -3.6700000e+00, -3.6600000e+00, -3.6500000e+00,\n",
       "       -3.6400000e+00, -3.6300000e+00, -3.6200000e+00, -3.6100000e+00,\n",
       "       -3.6000000e+00, -3.5900000e+00, -3.5800000e+00, -3.5700000e+00,\n",
       "       -3.5600000e+00, -3.5500000e+00, -3.5400000e+00, -3.5300000e+00,\n",
       "       -3.5200000e+00, -3.5100000e+00, -3.5000000e+00, -3.4900000e+00,\n",
       "       -3.4800000e+00, -3.4700000e+00, -3.4600000e+00, -3.4500000e+00,\n",
       "       -3.4400000e+00, -3.4300000e+00, -3.4200000e+00, -3.4100000e+00,\n",
       "       -3.4000000e+00, -3.3900000e+00, -3.3800000e+00, -3.3700000e+00,\n",
       "       -3.3600000e+00, -3.3500000e+00, -3.3400000e+00, -3.3300000e+00,\n",
       "       -3.3200000e+00, -3.3100000e+00, -3.3000000e+00, -3.2900000e+00,\n",
       "       -3.2800000e+00, -3.2700000e+00, -3.2600000e+00, -3.2500000e+00,\n",
       "       -3.2400000e+00, -3.2300000e+00, -3.2200000e+00, -3.2100000e+00,\n",
       "       -3.2000000e+00, -3.1900000e+00, -3.1800000e+00, -3.1700000e+00,\n",
       "       -3.1600000e+00, -3.1500000e+00, -3.1400000e+00, -3.1300000e+00,\n",
       "       -3.1200000e+00, -3.1100000e+00, -3.1000000e+00, -3.0900000e+00,\n",
       "       -3.0800000e+00, -3.0700000e+00, -3.0600000e+00, -3.0500000e+00,\n",
       "       -3.0400000e+00, -3.0300000e+00, -3.0200000e+00, -3.0100000e+00,\n",
       "       -3.0000000e+00, -2.9900000e+00, -2.9800000e+00, -2.9700000e+00,\n",
       "       -2.9600000e+00, -2.9500000e+00, -2.9400000e+00, -2.9300000e+00,\n",
       "       -2.9200000e+00, -2.9100000e+00, -2.9000000e+00, -2.8900000e+00,\n",
       "       -2.8800000e+00, -2.8700000e+00, -2.8600000e+00, -2.8500000e+00,\n",
       "       -2.8400000e+00, -2.8300000e+00, -2.8200000e+00, -2.8100000e+00,\n",
       "       -2.8000000e+00, -2.7900000e+00, -2.7800000e+00, -2.7700000e+00,\n",
       "       -2.7600000e+00, -2.7500000e+00, -2.7400000e+00, -2.7300000e+00,\n",
       "       -2.7200000e+00, -2.7100000e+00, -2.7000000e+00, -2.6900000e+00,\n",
       "       -2.6800000e+00, -2.6700000e+00, -2.6600000e+00, -2.6500000e+00,\n",
       "       -2.6400000e+00, -2.6300000e+00, -2.6200000e+00, -2.6100000e+00,\n",
       "       -2.6000000e+00, -2.5900000e+00, -2.5800000e+00, -2.5700000e+00,\n",
       "       -2.5600000e+00, -2.5500000e+00, -2.5400000e+00, -2.5300000e+00,\n",
       "       -2.5200000e+00, -2.5100000e+00, -2.5000000e+00, -2.4900000e+00,\n",
       "       -2.4800000e+00, -2.4700000e+00, -2.4600000e+00, -2.4500000e+00,\n",
       "       -2.4400000e+00, -2.4300000e+00, -2.4200000e+00, -2.4100000e+00,\n",
       "       -2.4000000e+00, -2.3900000e+00, -2.3800000e+00, -2.3700000e+00,\n",
       "       -2.3600000e+00, -2.3500000e+00, -2.3400000e+00, -2.3300000e+00,\n",
       "       -2.3200000e+00, -2.3100000e+00, -2.3000000e+00, -2.2900000e+00,\n",
       "       -2.2800000e+00, -2.2700000e+00, -2.2600000e+00, -2.2500000e+00,\n",
       "       -2.2400000e+00, -2.2300000e+00, -2.2200000e+00, -2.2100000e+00,\n",
       "       -2.2000000e+00, -2.1900000e+00, -2.1800000e+00, -2.1700000e+00,\n",
       "       -2.1600000e+00, -2.1500000e+00, -2.1400000e+00, -2.1300000e+00,\n",
       "       -2.1200000e+00, -2.1100000e+00, -2.1000000e+00, -2.0900000e+00,\n",
       "       -2.0800000e+00, -2.0700000e+00, -2.0600000e+00, -2.0500000e+00,\n",
       "       -2.0400000e+00, -2.0300000e+00, -2.0200000e+00, -2.0100000e+00,\n",
       "       -2.0000000e+00, -1.9900000e+00, -1.9800000e+00, -1.9700000e+00,\n",
       "       -1.9600000e+00, -1.9500000e+00, -1.9400000e+00, -1.9300000e+00,\n",
       "       -1.9200000e+00, -1.9100000e+00, -1.9000000e+00, -1.8900000e+00,\n",
       "       -1.8800000e+00, -1.8700000e+00, -1.8600000e+00, -1.8500000e+00,\n",
       "       -1.8400000e+00, -1.8300000e+00, -1.8200000e+00, -1.8100000e+00,\n",
       "       -1.8000000e+00, -1.7900000e+00, -1.7800000e+00, -1.7700000e+00,\n",
       "       -1.7600000e+00, -1.7500000e+00, -1.7400000e+00, -1.7300000e+00,\n",
       "       -1.7200000e+00, -1.7100000e+00, -1.7000000e+00, -1.6900000e+00,\n",
       "       -1.6800000e+00, -1.6700000e+00, -1.6600000e+00, -1.6500000e+00,\n",
       "       -1.6400000e+00, -1.6300000e+00, -1.6200000e+00, -1.6100000e+00,\n",
       "       -1.6000000e+00, -1.5900000e+00, -1.5800000e+00, -1.5700000e+00,\n",
       "       -1.5600000e+00, -1.5500000e+00, -1.5400000e+00, -1.5300000e+00,\n",
       "       -1.5200000e+00, -1.5100000e+00, -1.5000000e+00, -1.4900000e+00,\n",
       "       -1.4800000e+00, -1.4700000e+00, -1.4600000e+00, -1.4500000e+00,\n",
       "       -1.4400000e+00, -1.4300000e+00, -1.4200000e+00, -1.4100000e+00,\n",
       "       -1.4000000e+00, -1.3900000e+00, -1.3800000e+00, -1.3700000e+00,\n",
       "       -1.3600000e+00, -1.3500000e+00, -1.3400000e+00, -1.3300000e+00,\n",
       "       -1.3200000e+00, -1.3100000e+00, -1.3000000e+00, -1.2900000e+00,\n",
       "       -1.2800000e+00, -1.2700000e+00, -1.2600000e+00, -1.2500000e+00,\n",
       "       -1.2400000e+00, -1.2300000e+00, -1.2200000e+00, -1.2100000e+00,\n",
       "       -1.2000000e+00, -1.1900000e+00, -1.1800000e+00, -1.1700000e+00,\n",
       "       -1.1600000e+00, -1.1500000e+00, -1.1400000e+00, -1.1300000e+00,\n",
       "       -1.1200000e+00, -1.1100000e+00, -1.1000000e+00, -1.0900000e+00,\n",
       "       -1.0800000e+00, -1.0700000e+00, -1.0600000e+00, -1.0500000e+00,\n",
       "       -1.0400000e+00, -1.0300000e+00, -1.0200000e+00, -1.0100000e+00,\n",
       "       -1.0000000e+00, -9.9000000e-01, -9.8000000e-01, -9.7000000e-01,\n",
       "       -9.6000000e-01, -9.5000000e-01, -9.4000000e-01, -9.3000000e-01,\n",
       "       -9.2000000e-01, -9.1000000e-01, -9.0000000e-01, -8.9000000e-01,\n",
       "       -8.8000000e-01, -8.7000000e-01, -8.6000000e-01, -8.5000000e-01,\n",
       "       -8.4000000e-01, -8.3000000e-01, -8.2000000e-01, -8.1000000e-01,\n",
       "       -8.0000000e-01, -7.9000000e-01, -7.8000000e-01, -7.7000000e-01,\n",
       "       -7.6000000e-01, -7.5000000e-01, -7.4000000e-01, -7.3000000e-01,\n",
       "       -7.2000000e-01, -7.1000000e-01, -7.0000000e-01, -6.9000000e-01,\n",
       "       -6.8000000e-01, -6.7000000e-01, -6.6000000e-01, -6.5000000e-01,\n",
       "       -6.4000000e-01, -6.3000000e-01, -6.2000000e-01, -6.1000000e-01,\n",
       "       -6.0000000e-01, -5.9000000e-01, -5.8000000e-01, -5.7000000e-01,\n",
       "       -5.6000000e-01, -5.5000000e-01, -5.4000000e-01, -5.3000000e-01,\n",
       "       -5.2000000e-01, -5.1000000e-01, -5.0000000e-01, -4.9000000e-01,\n",
       "       -4.8000000e-01, -4.7000000e-01, -4.6000000e-01, -4.5000000e-01,\n",
       "       -4.4000000e-01, -4.3000000e-01, -4.2000000e-01, -4.1000000e-01,\n",
       "       -4.0000000e-01, -3.9000000e-01, -3.8000000e-01, -3.7000000e-01,\n",
       "       -3.6000000e-01, -3.5000000e-01, -3.4000000e-01, -3.3000000e-01,\n",
       "       -3.2000000e-01, -3.1000000e-01, -3.0000000e-01, -2.9000000e-01,\n",
       "       -2.8000000e-01, -2.7000000e-01, -2.6000000e-01, -2.5000000e-01,\n",
       "       -2.4000000e-01, -2.3000000e-01, -2.2000000e-01, -2.1000000e-01,\n",
       "       -2.0000000e-01, -1.9000000e-01, -1.8000000e-01, -1.7000000e-01,\n",
       "       -1.6000000e-01, -1.5000000e-01, -1.4000000e-01, -1.3000000e-01,\n",
       "       -1.2000000e-01, -1.1000000e-01, -1.0000000e-01, -9.0000000e-02,\n",
       "       -8.0000000e-02, -7.0000000e-02, -6.0000000e-02, -5.0000000e-02,\n",
       "       -4.0000000e-02, -3.0000000e-02, -2.0000000e-02, -1.0000000e-02,\n",
       "       -1.0658141e-13,  1.0000000e-02,  2.0000000e-02,  3.0000000e-02,\n",
       "        4.0000000e-02,  5.0000000e-02,  6.0000000e-02,  7.0000000e-02,\n",
       "        8.0000000e-02,  9.0000000e-02,  1.0000000e-01,  1.1000000e-01,\n",
       "        1.2000000e-01,  1.3000000e-01,  1.4000000e-01,  1.5000000e-01,\n",
       "        1.6000000e-01,  1.7000000e-01,  1.8000000e-01,  1.9000000e-01,\n",
       "        2.0000000e-01,  2.1000000e-01,  2.2000000e-01,  2.3000000e-01,\n",
       "        2.4000000e-01,  2.5000000e-01,  2.6000000e-01,  2.7000000e-01,\n",
       "        2.8000000e-01,  2.9000000e-01,  3.0000000e-01,  3.1000000e-01,\n",
       "        3.2000000e-01,  3.3000000e-01,  3.4000000e-01,  3.5000000e-01,\n",
       "        3.6000000e-01,  3.7000000e-01,  3.8000000e-01,  3.9000000e-01,\n",
       "        4.0000000e-01,  4.1000000e-01,  4.2000000e-01,  4.3000000e-01,\n",
       "        4.4000000e-01,  4.5000000e-01,  4.6000000e-01,  4.7000000e-01,\n",
       "        4.8000000e-01,  4.9000000e-01,  5.0000000e-01,  5.1000000e-01,\n",
       "        5.2000000e-01,  5.3000000e-01,  5.4000000e-01,  5.5000000e-01,\n",
       "        5.6000000e-01,  5.7000000e-01,  5.8000000e-01,  5.9000000e-01,\n",
       "        6.0000000e-01,  6.1000000e-01,  6.2000000e-01,  6.3000000e-01,\n",
       "        6.4000000e-01,  6.5000000e-01,  6.6000000e-01,  6.7000000e-01,\n",
       "        6.8000000e-01,  6.9000000e-01,  7.0000000e-01,  7.1000000e-01,\n",
       "        7.2000000e-01,  7.3000000e-01,  7.4000000e-01,  7.5000000e-01,\n",
       "        7.6000000e-01,  7.7000000e-01,  7.8000000e-01,  7.9000000e-01,\n",
       "        8.0000000e-01,  8.1000000e-01,  8.2000000e-01,  8.3000000e-01,\n",
       "        8.4000000e-01,  8.5000000e-01,  8.6000000e-01,  8.7000000e-01,\n",
       "        8.8000000e-01,  8.9000000e-01,  9.0000000e-01,  9.1000000e-01,\n",
       "        9.2000000e-01,  9.3000000e-01,  9.4000000e-01,  9.5000000e-01,\n",
       "        9.6000000e-01,  9.7000000e-01,  9.8000000e-01,  9.9000000e-01,\n",
       "        1.0000000e+00,  1.0100000e+00,  1.0200000e+00,  1.0300000e+00,\n",
       "        1.0400000e+00,  1.0500000e+00,  1.0600000e+00,  1.0700000e+00,\n",
       "        1.0800000e+00,  1.0900000e+00,  1.1000000e+00,  1.1100000e+00,\n",
       "        1.1200000e+00,  1.1300000e+00,  1.1400000e+00,  1.1500000e+00,\n",
       "        1.1600000e+00,  1.1700000e+00,  1.1800000e+00,  1.1900000e+00,\n",
       "        1.2000000e+00,  1.2100000e+00,  1.2200000e+00,  1.2300000e+00,\n",
       "        1.2400000e+00,  1.2500000e+00,  1.2600000e+00,  1.2700000e+00,\n",
       "        1.2800000e+00,  1.2900000e+00,  1.3000000e+00,  1.3100000e+00,\n",
       "        1.3200000e+00,  1.3300000e+00,  1.3400000e+00,  1.3500000e+00,\n",
       "        1.3600000e+00,  1.3700000e+00,  1.3800000e+00,  1.3900000e+00,\n",
       "        1.4000000e+00,  1.4100000e+00,  1.4200000e+00,  1.4300000e+00,\n",
       "        1.4400000e+00,  1.4500000e+00,  1.4600000e+00,  1.4700000e+00,\n",
       "        1.4800000e+00,  1.4900000e+00,  1.5000000e+00,  1.5100000e+00,\n",
       "        1.5200000e+00,  1.5300000e+00,  1.5400000e+00,  1.5500000e+00,\n",
       "        1.5600000e+00,  1.5700000e+00,  1.5800000e+00,  1.5900000e+00,\n",
       "        1.6000000e+00,  1.6100000e+00,  1.6200000e+00,  1.6300000e+00,\n",
       "        1.6400000e+00,  1.6500000e+00,  1.6600000e+00,  1.6700000e+00,\n",
       "        1.6800000e+00,  1.6900000e+00,  1.7000000e+00,  1.7100000e+00,\n",
       "        1.7200000e+00,  1.7300000e+00,  1.7400000e+00,  1.7500000e+00,\n",
       "        1.7600000e+00,  1.7700000e+00,  1.7800000e+00,  1.7900000e+00,\n",
       "        1.8000000e+00,  1.8100000e+00,  1.8200000e+00,  1.8300000e+00,\n",
       "        1.8400000e+00,  1.8500000e+00,  1.8600000e+00,  1.8700000e+00,\n",
       "        1.8800000e+00,  1.8900000e+00,  1.9000000e+00,  1.9100000e+00,\n",
       "        1.9200000e+00,  1.9300000e+00,  1.9400000e+00,  1.9500000e+00,\n",
       "        1.9600000e+00,  1.9700000e+00,  1.9800000e+00,  1.9900000e+00,\n",
       "        2.0000000e+00,  2.0100000e+00,  2.0200000e+00,  2.0300000e+00,\n",
       "        2.0400000e+00,  2.0500000e+00,  2.0600000e+00,  2.0700000e+00,\n",
       "        2.0800000e+00,  2.0900000e+00,  2.1000000e+00,  2.1100000e+00,\n",
       "        2.1200000e+00,  2.1300000e+00,  2.1400000e+00,  2.1500000e+00,\n",
       "        2.1600000e+00,  2.1700000e+00,  2.1800000e+00,  2.1900000e+00,\n",
       "        2.2000000e+00,  2.2100000e+00,  2.2200000e+00,  2.2300000e+00,\n",
       "        2.2400000e+00,  2.2500000e+00,  2.2600000e+00,  2.2700000e+00,\n",
       "        2.2800000e+00,  2.2900000e+00,  2.3000000e+00,  2.3100000e+00,\n",
       "        2.3200000e+00,  2.3300000e+00,  2.3400000e+00,  2.3500000e+00,\n",
       "        2.3600000e+00,  2.3700000e+00,  2.3800000e+00,  2.3900000e+00,\n",
       "        2.4000000e+00,  2.4100000e+00,  2.4200000e+00,  2.4300000e+00,\n",
       "        2.4400000e+00,  2.4500000e+00,  2.4600000e+00,  2.4700000e+00,\n",
       "        2.4800000e+00,  2.4900000e+00,  2.5000000e+00,  2.5100000e+00,\n",
       "        2.5200000e+00,  2.5300000e+00,  2.5400000e+00,  2.5500000e+00,\n",
       "        2.5600000e+00,  2.5700000e+00,  2.5800000e+00,  2.5900000e+00,\n",
       "        2.6000000e+00,  2.6100000e+00,  2.6200000e+00,  2.6300000e+00,\n",
       "        2.6400000e+00,  2.6500000e+00,  2.6600000e+00,  2.6700000e+00,\n",
       "        2.6800000e+00,  2.6900000e+00,  2.7000000e+00,  2.7100000e+00,\n",
       "        2.7200000e+00,  2.7300000e+00,  2.7400000e+00,  2.7500000e+00,\n",
       "        2.7600000e+00,  2.7700000e+00,  2.7800000e+00,  2.7900000e+00,\n",
       "        2.8000000e+00,  2.8100000e+00,  2.8200000e+00,  2.8300000e+00,\n",
       "        2.8400000e+00,  2.8500000e+00,  2.8600000e+00,  2.8700000e+00,\n",
       "        2.8800000e+00,  2.8900000e+00,  2.9000000e+00,  2.9100000e+00,\n",
       "        2.9200000e+00,  2.9300000e+00,  2.9400000e+00,  2.9500000e+00,\n",
       "        2.9600000e+00,  2.9700000e+00,  2.9800000e+00,  2.9900000e+00,\n",
       "        3.0000000e+00,  3.0100000e+00,  3.0200000e+00,  3.0300000e+00,\n",
       "        3.0400000e+00,  3.0500000e+00,  3.0600000e+00,  3.0700000e+00,\n",
       "        3.0800000e+00,  3.0900000e+00,  3.1000000e+00,  3.1100000e+00,\n",
       "        3.1200000e+00,  3.1300000e+00,  3.1400000e+00,  3.1500000e+00,\n",
       "        3.1600000e+00,  3.1700000e+00,  3.1800000e+00,  3.1900000e+00,\n",
       "        3.2000000e+00,  3.2100000e+00,  3.2200000e+00,  3.2300000e+00,\n",
       "        3.2400000e+00,  3.2500000e+00,  3.2600000e+00,  3.2700000e+00,\n",
       "        3.2800000e+00,  3.2900000e+00,  3.3000000e+00,  3.3100000e+00,\n",
       "        3.3200000e+00,  3.3300000e+00,  3.3400000e+00,  3.3500000e+00,\n",
       "        3.3600000e+00,  3.3700000e+00,  3.3800000e+00,  3.3900000e+00,\n",
       "        3.4000000e+00,  3.4100000e+00,  3.4200000e+00,  3.4300000e+00,\n",
       "        3.4400000e+00,  3.4500000e+00,  3.4600000e+00,  3.4700000e+00,\n",
       "        3.4800000e+00,  3.4900000e+00,  3.5000000e+00,  3.5100000e+00,\n",
       "        3.5200000e+00,  3.5300000e+00,  3.5400000e+00,  3.5500000e+00,\n",
       "        3.5600000e+00,  3.5700000e+00,  3.5800000e+00,  3.5900000e+00,\n",
       "        3.6000000e+00,  3.6100000e+00,  3.6200000e+00,  3.6300000e+00,\n",
       "        3.6400000e+00,  3.6500000e+00,  3.6600000e+00,  3.6700000e+00,\n",
       "        3.6800000e+00,  3.6900000e+00,  3.7000000e+00,  3.7100000e+00,\n",
       "        3.7200000e+00,  3.7300000e+00,  3.7400000e+00,  3.7500000e+00,\n",
       "        3.7600000e+00,  3.7700000e+00,  3.7800000e+00,  3.7900000e+00,\n",
       "        3.8000000e+00,  3.8100000e+00,  3.8200000e+00,  3.8300000e+00,\n",
       "        3.8400000e+00,  3.8500000e+00,  3.8600000e+00,  3.8700000e+00,\n",
       "        3.8800000e+00,  3.8900000e+00,  3.9000000e+00,  3.9100000e+00,\n",
       "        3.9200000e+00,  3.9300000e+00,  3.9400000e+00,  3.9500000e+00,\n",
       "        3.9600000e+00,  3.9700000e+00,  3.9800000e+00,  3.9900000e+00,\n",
       "        4.0000000e+00,  4.0100000e+00,  4.0200000e+00,  4.0300000e+00,\n",
       "        4.0400000e+00,  4.0500000e+00,  4.0600000e+00,  4.0700000e+00,\n",
       "        4.0800000e+00,  4.0900000e+00,  4.1000000e+00,  4.1100000e+00,\n",
       "        4.1200000e+00,  4.1300000e+00,  4.1400000e+00,  4.1500000e+00,\n",
       "        4.1600000e+00,  4.1700000e+00,  4.1800000e+00,  4.1900000e+00,\n",
       "        4.2000000e+00,  4.2100000e+00,  4.2200000e+00,  4.2300000e+00,\n",
       "        4.2400000e+00,  4.2500000e+00,  4.2600000e+00,  4.2700000e+00,\n",
       "        4.2800000e+00,  4.2900000e+00,  4.3000000e+00,  4.3100000e+00,\n",
       "        4.3200000e+00,  4.3300000e+00,  4.3400000e+00,  4.3500000e+00,\n",
       "        4.3600000e+00,  4.3700000e+00,  4.3800000e+00,  4.3900000e+00,\n",
       "        4.4000000e+00,  4.4100000e+00,  4.4200000e+00,  4.4300000e+00,\n",
       "        4.4400000e+00,  4.4500000e+00,  4.4600000e+00,  4.4700000e+00,\n",
       "        4.4800000e+00,  4.4900000e+00,  4.5000000e+00,  4.5100000e+00,\n",
       "        4.5200000e+00,  4.5300000e+00,  4.5400000e+00,  4.5500000e+00,\n",
       "        4.5600000e+00,  4.5700000e+00,  4.5800000e+00,  4.5900000e+00,\n",
       "        4.6000000e+00,  4.6100000e+00,  4.6200000e+00,  4.6300000e+00,\n",
       "        4.6400000e+00,  4.6500000e+00,  4.6600000e+00,  4.6700000e+00,\n",
       "        4.6800000e+00,  4.6900000e+00,  4.7000000e+00,  4.7100000e+00,\n",
       "        4.7200000e+00,  4.7300000e+00,  4.7400000e+00,  4.7500000e+00,\n",
       "        4.7600000e+00,  4.7700000e+00,  4.7800000e+00,  4.7900000e+00,\n",
       "        4.8000000e+00,  4.8100000e+00,  4.8200000e+00,  4.8300000e+00,\n",
       "        4.8400000e+00,  4.8500000e+00,  4.8600000e+00,  4.8700000e+00,\n",
       "        4.8800000e+00,  4.8900000e+00,  4.9000000e+00,  4.9100000e+00,\n",
       "        4.9200000e+00,  4.9300000e+00,  4.9400000e+00,  4.9500000e+00,\n",
       "        4.9600000e+00,  4.9700000e+00,  4.9800000e+00,  4.9900000e+00])"
      ]
     },
     "execution_count": 158,
     "metadata": {},
     "output_type": "execute_result"
    }
   ],
   "source": [
    "points"
   ]
  },
  {
   "cell_type": "code",
   "execution_count": 160,
   "metadata": {},
   "outputs": [],
   "source": [
    "xs,ys = np.meshgrid(points,points)"
   ]
  },
  {
   "cell_type": "code",
   "execution_count": 161,
   "metadata": {},
   "outputs": [
    {
     "data": {
      "text/plain": [
       "array([[-5.  , -5.  , -5.  , ..., -5.  , -5.  , -5.  ],\n",
       "       [-4.99, -4.99, -4.99, ..., -4.99, -4.99, -4.99],\n",
       "       [-4.98, -4.98, -4.98, ..., -4.98, -4.98, -4.98],\n",
       "       ...,\n",
       "       [ 4.97,  4.97,  4.97, ...,  4.97,  4.97,  4.97],\n",
       "       [ 4.98,  4.98,  4.98, ...,  4.98,  4.98,  4.98],\n",
       "       [ 4.99,  4.99,  4.99, ...,  4.99,  4.99,  4.99]])"
      ]
     },
     "execution_count": 161,
     "metadata": {},
     "output_type": "execute_result"
    }
   ],
   "source": [
    "ys\n"
   ]
  },
  {
   "cell_type": "code",
   "execution_count": 162,
   "metadata": {},
   "outputs": [
    {
     "data": {
      "text/plain": [
       "array([[-5.  , -4.99, -4.98, ...,  4.97,  4.98,  4.99],\n",
       "       [-5.  , -4.99, -4.98, ...,  4.97,  4.98,  4.99],\n",
       "       [-5.  , -4.99, -4.98, ...,  4.97,  4.98,  4.99],\n",
       "       ...,\n",
       "       [-5.  , -4.99, -4.98, ...,  4.97,  4.98,  4.99],\n",
       "       [-5.  , -4.99, -4.98, ...,  4.97,  4.98,  4.99],\n",
       "       [-5.  , -4.99, -4.98, ...,  4.97,  4.98,  4.99]])"
      ]
     },
     "execution_count": 162,
     "metadata": {},
     "output_type": "execute_result"
    }
   ],
   "source": [
    "xs"
   ]
  },
  {
   "cell_type": "code",
   "execution_count": 166,
   "metadata": {},
   "outputs": [],
   "source": [
    "z = np.sqrt(xs **2 + ys ** 2)"
   ]
  },
  {
   "cell_type": "code",
   "execution_count": 167,
   "metadata": {},
   "outputs": [
    {
     "data": {
      "text/plain": [
       "array([[7.07106781, 7.06400028, 7.05693985, ..., 7.04988652, 7.05693985,\n",
       "        7.06400028],\n",
       "       [7.06400028, 7.05692568, 7.04985815, ..., 7.04279774, 7.04985815,\n",
       "        7.05692568],\n",
       "       [7.05693985, 7.04985815, 7.04278354, ..., 7.03571603, 7.04278354,\n",
       "        7.04985815],\n",
       "       ...,\n",
       "       [7.04988652, 7.04279774, 7.03571603, ..., 7.0286414 , 7.03571603,\n",
       "        7.04279774],\n",
       "       [7.05693985, 7.04985815, 7.04278354, ..., 7.03571603, 7.04278354,\n",
       "        7.04985815],\n",
       "       [7.06400028, 7.05692568, 7.04985815, ..., 7.04279774, 7.04985815,\n",
       "        7.05692568]])"
      ]
     },
     "execution_count": 167,
     "metadata": {},
     "output_type": "execute_result"
    }
   ],
   "source": [
    "z"
   ]
  },
  {
   "cell_type": "code",
   "execution_count": 168,
   "metadata": {},
   "outputs": [],
   "source": [
    "import matplotlib.pyplot as plt"
   ]
  },
  {
   "cell_type": "code",
   "execution_count": 169,
   "metadata": {},
   "outputs": [
    {
     "data": {
      "text/plain": [
       "<matplotlib.colorbar.Colorbar at 0x276e5277828>"
      ]
     },
     "execution_count": 169,
     "metadata": {},
     "output_type": "execute_result"
    },
    {
     "data": {
      "image/png": "[encoded data removed]",
      "text/plain": [
       "<Figure size 432x288 with 2 Axes>"
      ]
     },
     "metadata": {
      "needs_background": "light"
     },
     "output_type": "display_data"
    }
   ],
   "source": [
    "plt.imshow(z, cmap=plt.cm.gray) \n",
    "plt.colorbar()"
   ]
  },
  {
   "cell_type": "code",
   "execution_count": 170,
   "metadata": {},
   "outputs": [
    {
     "data": {
      "text/plain": [
       "Text(0.5, 1.0, 'Image plot of $\\\\sqrt{x^2 + y^2}$ for a grid of values')"
      ]
     },
     "execution_count": 170,
     "metadata": {},
     "output_type": "execute_result"
    },
    {
     "data": {
      "image/png": "[encoded data removed]",
      "text/plain": [
       "<Figure size 432x288 with 1 Axes>"
      ]
     },
     "metadata": {
      "needs_background": "light"
     },
     "output_type": "display_data"
    }
   ],
   "source": [
    "plt.title(\"Image plot of $\\sqrt{x^2 + y^2}$ for a grid of values\")"
   ]
  },
  {
   "cell_type": "code",
   "execution_count": 171,
   "metadata": {},
   "outputs": [],
   "source": [
    "xarr = np.array([1.1, 1.2, 1.3, 1.4, 1.5])"
   ]
  },
  {
   "cell_type": "code",
   "execution_count": 172,
   "metadata": {},
   "outputs": [],
   "source": [
    "yarr = np.array([2.1, 2.2, 2.3, 2.4, 2.5])"
   ]
  },
  {
   "cell_type": "code",
   "execution_count": 173,
   "metadata": {},
   "outputs": [],
   "source": [
    "cond = np.array([True, False, True, True, False])"
   ]
  },
  {
   "cell_type": "code",
   "execution_count": 174,
   "metadata": {},
   "outputs": [],
   "source": [
    "result = [(x if c else y) for x, y, c in zip(xarr, yarr, cond)]"
   ]
  },
  {
   "cell_type": "code",
   "execution_count": 175,
   "metadata": {},
   "outputs": [
    {
     "data": {
      "text/plain": [
       "[1.1, 2.2, 1.3, 1.4, 2.5]"
      ]
     },
     "execution_count": 175,
     "metadata": {},
     "output_type": "execute_result"
    }
   ],
   "source": [
    "result"
   ]
  },
  {
   "cell_type": "code",
   "execution_count": 176,
   "metadata": {},
   "outputs": [],
   "source": [
    "arr = np.random.randn(4,4)"
   ]
  },
  {
   "cell_type": "code",
   "execution_count": 177,
   "metadata": {},
   "outputs": [
    {
     "data": {
      "text/plain": [
       "array([[ 0.47486583, -1.16344929, -0.81176885, -0.43619882],\n",
       "       [ 0.19933704, -0.16376189, -0.19778832,  0.23547922],\n",
       "       [ 0.59183622, -0.48675701, -0.68026219, -0.25331726],\n",
       "       [-0.55115885,  0.25838181, -0.75340688,  0.64201922]])"
      ]
     },
     "execution_count": 177,
     "metadata": {},
     "output_type": "execute_result"
    }
   ],
   "source": [
    "arr"
   ]
  },
  {
   "cell_type": "code",
   "execution_count": 178,
   "metadata": {},
   "outputs": [
    {
     "data": {
      "text/plain": [
       "array([[ True, False, False, False],\n",
       "       [ True, False, False,  True],\n",
       "       [ True, False, False, False],\n",
       "       [False,  True, False,  True]])"
      ]
     },
     "execution_count": 178,
     "metadata": {},
     "output_type": "execute_result"
    }
   ],
   "source": [
    "arr >0"
   ]
  },
  {
   "cell_type": "code",
   "execution_count": 179,
   "metadata": {},
   "outputs": [
    {
     "data": {
      "text/plain": [
       "array([[ 2, -2, -2, -2],\n",
       "       [ 2, -2, -2,  2],\n",
       "       [ 2, -2, -2, -2],\n",
       "       [-2,  2, -2,  2]])"
      ]
     },
     "execution_count": 179,
     "metadata": {},
     "output_type": "execute_result"
    }
   ],
   "source": [
    "np.where(arr > 0,2,-2)"
   ]
  },
  {
   "cell_type": "code",
   "execution_count": 180,
   "metadata": {},
   "outputs": [
    {
     "data": {
      "text/plain": [
       "array([[ 2.        , -1.16344929, -0.81176885, -0.43619882],\n",
       "       [ 2.        , -0.16376189, -0.19778832,  2.        ],\n",
       "       [ 2.        , -0.48675701, -0.68026219, -0.25331726],\n",
       "       [-0.55115885,  2.        , -0.75340688,  2.        ]])"
      ]
     },
     "execution_count": 180,
     "metadata": {},
     "output_type": "execute_result"
    }
   ],
   "source": [
    "np.where(arr > 0, 2, arr)"
   ]
  },
  {
   "cell_type": "code",
   "execution_count": 181,
   "metadata": {},
   "outputs": [],
   "source": [
    "###  统计\n",
    "\n",
    "arr = np.random.randn(5,4)"
   ]
  },
  {
   "cell_type": "code",
   "execution_count": 182,
   "metadata": {},
   "outputs": [
    {
     "data": {
      "text/plain": [
       "array([[-0.15010665, -0.26330166, -0.75018676,  0.85309136],\n",
       "       [-1.32732185, -0.18602378, -0.8487009 ,  1.60879966],\n",
       "       [ 0.22956133,  0.64240568,  0.2074976 ,  1.12888568],\n",
       "       [ 0.26272297,  1.20627006, -0.83528702, -0.00695256],\n",
       "       [ 0.32704781, -0.84018947, -0.00698764,  0.39367381]])"
      ]
     },
     "execution_count": 182,
     "metadata": {},
     "output_type": "execute_result"
    }
   ],
   "source": [
    "arr"
   ]
  },
  {
   "cell_type": "code",
   "execution_count": 183,
   "metadata": {},
   "outputs": [
    {
     "data": {
      "text/plain": [
       "0.08224488409745997"
      ]
     },
     "execution_count": 183,
     "metadata": {},
     "output_type": "execute_result"
    }
   ],
   "source": [
    "arr.mean()"
   ]
  },
  {
   "cell_type": "code",
   "execution_count": 184,
   "metadata": {},
   "outputs": [
    {
     "data": {
      "text/plain": [
       "0.08224488409745997"
      ]
     },
     "execution_count": 184,
     "metadata": {},
     "output_type": "execute_result"
    }
   ],
   "source": [
    "np.mean(arr)"
   ]
  },
  {
   "cell_type": "code",
   "execution_count": 185,
   "metadata": {},
   "outputs": [
    {
     "data": {
      "text/plain": [
       "1.6448976819491996"
      ]
     },
     "execution_count": 185,
     "metadata": {},
     "output_type": "execute_result"
    }
   ],
   "source": [
    "arr.sum()"
   ]
  },
  {
   "cell_type": "code",
   "execution_count": 186,
   "metadata": {},
   "outputs": [
    {
     "data": {
      "text/plain": [
       "array([-0.07762593, -0.18831172,  0.55208757,  0.15668836, -0.03161387])"
      ]
     },
     "execution_count": 186,
     "metadata": {},
     "output_type": "execute_result"
    }
   ],
   "source": [
    "arr.mean(axis=1) #axis=1表示行"
   ]
  },
  {
   "cell_type": "code",
   "execution_count": 187,
   "metadata": {},
   "outputs": [
    {
     "data": {
      "text/plain": [
       "array([-0.65809638,  0.55916082, -2.23366472,  3.97749796])"
      ]
     },
     "execution_count": 187,
     "metadata": {},
     "output_type": "execute_result"
    }
   ],
   "source": [
    "arr.sum(axis=0) #axis=0表示列"
   ]
  },
  {
   "cell_type": "code",
   "execution_count": 188,
   "metadata": {},
   "outputs": [],
   "source": [
    "arr = np.array([0, 1, 2, 3, 4, 5, 6, 7])"
   ]
  },
  {
   "cell_type": "code",
   "execution_count": 189,
   "metadata": {},
   "outputs": [
    {
     "data": {
      "text/plain": [
       "array([ 0,  1,  3,  6, 10, 15, 21, 28], dtype=int32)"
      ]
     },
     "execution_count": 189,
     "metadata": {},
     "output_type": "execute_result"
    }
   ],
   "source": [
    "arr.cumsum()"
   ]
  },
  {
   "cell_type": "code",
   "execution_count": 190,
   "metadata": {},
   "outputs": [],
   "source": [
    "arr = np.array([[0, 1, 2], [3, 4, 5], [6, 7, 8]])"
   ]
  },
  {
   "cell_type": "code",
   "execution_count": 191,
   "metadata": {},
   "outputs": [
    {
     "data": {
      "text/plain": [
       "array([[0, 1, 2],\n",
       "       [3, 4, 5],\n",
       "       [6, 7, 8]])"
      ]
     },
     "execution_count": 191,
     "metadata": {},
     "output_type": "execute_result"
    }
   ],
   "source": [
    "arr"
   ]
  },
  {
   "cell_type": "code",
   "execution_count": 192,
   "metadata": {},
   "outputs": [
    {
     "data": {
      "text/plain": [
       "array([[ 0,  1,  2],\n",
       "       [ 3,  5,  7],\n",
       "       [ 9, 12, 15]], dtype=int32)"
      ]
     },
     "execution_count": 192,
     "metadata": {},
     "output_type": "execute_result"
    }
   ],
   "source": [
    "arr.cumsum(axis=0)"
   ]
  },
  {
   "cell_type": "code",
   "execution_count": 193,
   "metadata": {},
   "outputs": [
    {
     "data": {
      "text/plain": [
       "array([[  0,   0,   0],\n",
       "       [  3,  12,  60],\n",
       "       [  6,  42, 336]], dtype=int32)"
      ]
     },
     "execution_count": 193,
     "metadata": {},
     "output_type": "execute_result"
    }
   ],
   "source": [
    "arr.cumprod(axis=1)"
   ]
  },
  {
   "cell_type": "code",
   "execution_count": 194,
   "metadata": {},
   "outputs": [],
   "source": [
    "arr = np.random.randn(100)"
   ]
  },
  {
   "cell_type": "code",
   "execution_count": 195,
   "metadata": {},
   "outputs": [
    {
     "data": {
      "text/plain": [
       "50"
      ]
     },
     "execution_count": 195,
     "metadata": {},
     "output_type": "execute_result"
    }
   ],
   "source": [
    "\n",
    "\n",
    "(arr > 0).sum()\n",
    "\n"
   ]
  },
  {
   "cell_type": "code",
   "execution_count": 196,
   "metadata": {},
   "outputs": [],
   "source": [
    "bools = np.array([False, False, True, False])"
   ]
  },
  {
   "cell_type": "code",
   "execution_count": 197,
   "metadata": {},
   "outputs": [
    {
     "data": {
      "text/plain": [
       "True"
      ]
     },
     "execution_count": 197,
     "metadata": {},
     "output_type": "execute_result"
    }
   ],
   "source": [
    "bools.any()"
   ]
  },
  {
   "cell_type": "code",
   "execution_count": 198,
   "metadata": {},
   "outputs": [
    {
     "data": {
      "text/plain": [
       "False"
      ]
     },
     "execution_count": 198,
     "metadata": {},
     "output_type": "execute_result"
    }
   ],
   "source": [
    "bools.all()"
   ]
  },
  {
   "cell_type": "code",
   "execution_count": 199,
   "metadata": {},
   "outputs": [
    {
     "data": {
      "text/plain": [
       "array([-0.32846455, -0.16008697, -0.76678161,  1.0444363 , -1.28595543,\n",
       "        0.29675888])"
      ]
     },
     "execution_count": 199,
     "metadata": {},
     "output_type": "execute_result"
    }
   ],
   "source": [
    "## 排序\n",
    "arr = np.random.randn(6)\n",
    "arr\n"
   ]
  },
  {
   "cell_type": "code",
   "execution_count": 200,
   "metadata": {},
   "outputs": [
    {
     "data": {
      "text/plain": [
       "array([-1.28595543, -0.76678161, -0.32846455, -0.16008697,  0.29675888,\n",
       "        1.0444363 ])"
      ]
     },
     "execution_count": 200,
     "metadata": {},
     "output_type": "execute_result"
    }
   ],
   "source": [
    "arr.sort()\n",
    "arr"
   ]
  },
  {
   "cell_type": "code",
   "execution_count": 201,
   "metadata": {},
   "outputs": [
    {
     "data": {
      "text/plain": [
       "array([[ 0.70783033,  0.81842362, -1.68905164],\n",
       "       [ 0.23123755, -0.36644614, -0.7110345 ],\n",
       "       [ 0.44226548, -0.67321939, -1.97431641],\n",
       "       [-0.5071693 , -0.20000968,  0.67684123],\n",
       "       [ 1.43376714,  1.7937298 ,  1.62029482]])"
      ]
     },
     "execution_count": 201,
     "metadata": {},
     "output_type": "execute_result"
    }
   ],
   "source": [
    "arr = np.random.randn(5, 3)\n",
    "arr"
   ]
  },
  {
   "cell_type": "code",
   "execution_count": 202,
   "metadata": {},
   "outputs": [
    {
     "data": {
      "text/plain": [
       "array([[-1.68905164,  0.70783033,  0.81842362],\n",
       "       [-0.7110345 , -0.36644614,  0.23123755],\n",
       "       [-1.97431641, -0.67321939,  0.44226548],\n",
       "       [-0.5071693 , -0.20000968,  0.67684123],\n",
       "       [ 1.43376714,  1.62029482,  1.7937298 ]])"
      ]
     },
     "execution_count": 202,
     "metadata": {},
     "output_type": "execute_result"
    }
   ],
   "source": [
    "arr.sort(1)\n",
    "arr"
   ]
  },
  {
   "cell_type": "code",
   "execution_count": 203,
   "metadata": {},
   "outputs": [],
   "source": [
    "large_arr = np.random.randn(1000)"
   ]
  },
  {
   "cell_type": "code",
   "execution_count": 204,
   "metadata": {},
   "outputs": [],
   "source": [
    "large_arr.sort()"
   ]
  },
  {
   "cell_type": "code",
   "execution_count": 205,
   "metadata": {},
   "outputs": [
    {
     "data": {
      "text/plain": [
       "-1.6024078592824507"
      ]
     },
     "execution_count": 205,
     "metadata": {},
     "output_type": "execute_result"
    }
   ],
   "source": [
    "large_arr[int(0.05 * len (large_arr))]"
   ]
  },
  {
   "cell_type": "code",
   "execution_count": 206,
   "metadata": {},
   "outputs": [],
   "source": [
    "###  集合\n",
    "\n",
    "names = np.array(['Bob', 'Joe', 'Will', 'Bob', 'Will','Joe', 'Joe'])"
   ]
  },
  {
   "cell_type": "code",
   "execution_count": 207,
   "metadata": {},
   "outputs": [
    {
     "data": {
      "text/plain": [
       "array(['Bob', 'Joe', 'Will'], dtype='<U4')"
      ]
     },
     "execution_count": 207,
     "metadata": {},
     "output_type": "execute_result"
    }
   ],
   "source": [
    "np.unique(names)"
   ]
  },
  {
   "cell_type": "code",
   "execution_count": 209,
   "metadata": {},
   "outputs": [],
   "source": [
    "ints = np.array([3, 3, 3, 2, 2, 1, 1, 4, 4])"
   ]
  },
  {
   "cell_type": "code",
   "execution_count": 210,
   "metadata": {},
   "outputs": [
    {
     "data": {
      "text/plain": [
       "array([1, 2, 3, 4])"
      ]
     },
     "execution_count": 210,
     "metadata": {},
     "output_type": "execute_result"
    }
   ],
   "source": [
    "np.unique(ints)"
   ]
  },
  {
   "cell_type": "code",
   "execution_count": 212,
   "metadata": {},
   "outputs": [
    {
     "data": {
      "text/plain": [
       "['Bob', 'Joe', 'Will']"
      ]
     },
     "execution_count": 212,
     "metadata": {},
     "output_type": "execute_result"
    }
   ],
   "source": [
    "sorted(set(names))"
   ]
  },
  {
   "cell_type": "code",
   "execution_count": 213,
   "metadata": {},
   "outputs": [],
   "source": [
    "values = np.array([6, 0, 0, 3, 2, 5, 6])"
   ]
  },
  {
   "cell_type": "code",
   "execution_count": 214,
   "metadata": {},
   "outputs": [
    {
     "data": {
      "text/plain": [
       "array([ True, False, False,  True,  True, False,  True])"
      ]
     },
     "execution_count": 214,
     "metadata": {},
     "output_type": "execute_result"
    }
   ],
   "source": [
    "np.in1d(values, [2, 3, 6])"
   ]
  },
  {
   "cell_type": "code",
   "execution_count": 216,
   "metadata": {},
   "outputs": [],
   "source": [
    "## 数组文件\n",
    "\n",
    "arr = np.arange(10)"
   ]
  },
  {
   "cell_type": "code",
   "execution_count": 217,
   "metadata": {},
   "outputs": [],
   "source": [
    "np.save('1_array',arr)"
   ]
  },
  {
   "cell_type": "code",
   "execution_count": 218,
   "metadata": {},
   "outputs": [
    {
     "data": {
      "text/plain": [
       "array([0, 1, 2, 3, 4, 5, 6, 7, 8, 9])"
      ]
     },
     "execution_count": 218,
     "metadata": {},
     "output_type": "execute_result"
    }
   ],
   "source": [
    "np.load('1_array.npy')"
   ]
  },
  {
   "cell_type": "code",
   "execution_count": 219,
   "metadata": {},
   "outputs": [],
   "source": [
    "np.savez('array_archive.npz', a=arr, b=arr)"
   ]
  },
  {
   "cell_type": "code",
   "execution_count": 220,
   "metadata": {},
   "outputs": [],
   "source": [
    "arch = np.load('array_archive.npz')"
   ]
  },
  {
   "cell_type": "code",
   "execution_count": 221,
   "metadata": {},
   "outputs": [
    {
     "data": {
      "text/plain": [
       "array([0, 1, 2, 3, 4, 5, 6, 7, 8, 9])"
      ]
     },
     "execution_count": 221,
     "metadata": {},
     "output_type": "execute_result"
    }
   ],
   "source": [
    "arch['b']"
   ]
  },
  {
   "cell_type": "code",
   "execution_count": 222,
   "metadata": {},
   "outputs": [],
   "source": [
    "np.savez_compressed('arrays_compressed.npz', a=arr, b=arr)"
   ]
  },
  {
   "cell_type": "code",
   "execution_count": 223,
   "metadata": {},
   "outputs": [],
   "source": [
    "### 线代\n",
    "\n",
    "x = np.array([[1., 2., 3.], [4., 5., 6.]])\n",
    "y = np.array([[6., 23.], [-1, 7], [8, 9]])\n"
   ]
  },
  {
   "cell_type": "code",
   "execution_count": 224,
   "metadata": {},
   "outputs": [
    {
     "data": {
      "text/plain": [
       "array([[1., 2., 3.],\n",
       "       [4., 5., 6.]])"
      ]
     },
     "execution_count": 224,
     "metadata": {},
     "output_type": "execute_result"
    }
   ],
   "source": [
    "x"
   ]
  },
  {
   "cell_type": "code",
   "execution_count": 225,
   "metadata": {},
   "outputs": [
    {
     "data": {
      "text/plain": [
       "array([[ 6., 23.],\n",
       "       [-1.,  7.],\n",
       "       [ 8.,  9.]])"
      ]
     },
     "execution_count": 225,
     "metadata": {},
     "output_type": "execute_result"
    }
   ],
   "source": [
    "y"
   ]
  },
  {
   "cell_type": "code",
   "execution_count": 226,
   "metadata": {},
   "outputs": [
    {
     "data": {
      "text/plain": [
       "array([[ 28.,  64.],\n",
       "       [ 67., 181.]])"
      ]
     },
     "execution_count": 226,
     "metadata": {},
     "output_type": "execute_result"
    }
   ],
   "source": [
    "x.dot(y)"
   ]
  },
  {
   "cell_type": "code",
   "execution_count": 227,
   "metadata": {},
   "outputs": [
    {
     "data": {
      "text/plain": [
       "array([[ 28.,  64.],\n",
       "       [ 67., 181.]])"
      ]
     },
     "execution_count": 227,
     "metadata": {},
     "output_type": "execute_result"
    }
   ],
   "source": [
    "np.dot(x,y)"
   ]
  },
  {
   "cell_type": "code",
   "execution_count": 228,
   "metadata": {},
   "outputs": [
    {
     "data": {
      "text/plain": [
       "array([ 6., 15.])"
      ]
     },
     "execution_count": 228,
     "metadata": {},
     "output_type": "execute_result"
    }
   ],
   "source": [
    "\n",
    "\n",
    "np.dot(x, np.ones(3))\n",
    "\n"
   ]
  },
  {
   "cell_type": "code",
   "execution_count": 230,
   "metadata": {},
   "outputs": [
    {
     "data": {
      "text/plain": [
       "array([ 6., 15.])"
      ]
     },
     "execution_count": 230,
     "metadata": {},
     "output_type": "execute_result"
    }
   ],
   "source": [
    "x @ np.ones(3)  # @ 矩阵乘法"
   ]
  },
  {
   "cell_type": "code",
   "execution_count": 231,
   "metadata": {},
   "outputs": [],
   "source": [
    "from numpy.linalg import inv, qr"
   ]
  },
  {
   "cell_type": "code",
   "execution_count": 232,
   "metadata": {},
   "outputs": [],
   "source": [
    "X = np.random.randn(5, 5)"
   ]
  },
  {
   "cell_type": "code",
   "execution_count": 233,
   "metadata": {},
   "outputs": [
    {
     "data": {
      "text/plain": [
       "array([[ 12.05198995,  -0.86519751,  -4.08735071, -10.15218273,\n",
       "          3.42983622],\n",
       "       [ -0.86519751,   3.41887621,   2.48765402,   0.96470863,\n",
       "         -1.52983193],\n",
       "       [ -4.08735071,   2.48765402,   7.13720679,   1.32018356,\n",
       "         -0.38260504],\n",
       "       [-10.15218273,   0.96470863,   1.32018356,  10.15582198,\n",
       "         -4.75148732],\n",
       "       [  3.42983622,  -1.52983193,  -0.38260504,  -4.75148732,\n",
       "          4.50531151]])"
      ]
     },
     "execution_count": 233,
     "metadata": {},
     "output_type": "execute_result"
    }
   ],
   "source": [
    "mat = X.T.dot(X)\n",
    "mat"
   ]
  },
  {
   "cell_type": "code",
   "execution_count": 234,
   "metadata": {},
   "outputs": [
    {
     "data": {
      "text/plain": [
       "array([[18.46734787, -3.94029751,  8.40554408, 21.46315893,  7.95282624],\n",
       "       [-3.94029751,  1.35716723, -1.97747097, -4.48159275, -1.43386503],\n",
       "       [ 8.40554408, -1.97747097,  4.03547435,  9.70855367,  3.51123884],\n",
       "       [21.46315893, -4.48159275,  9.70855367, 25.16246624,  9.50044794],\n",
       "       [ 7.95282624, -1.43386503,  3.51123884,  9.50044794,  3.99843864]])"
      ]
     },
     "execution_count": 234,
     "metadata": {},
     "output_type": "execute_result"
    }
   ],
   "source": [
    "inv(mat)"
   ]
  },
  {
   "cell_type": "code",
   "execution_count": 235,
   "metadata": {},
   "outputs": [
    {
     "data": {
      "text/plain": [
       "array([[ 1.00000000e+00,  2.66453526e-15, -1.77635684e-15,\n",
       "        -7.10542736e-15, -3.55271368e-15],\n",
       "       [-3.55271368e-15,  1.00000000e+00, -8.88178420e-16,\n",
       "        -5.32907052e-15, -8.88178420e-16],\n",
       "       [-1.37667655e-14,  0.00000000e+00,  1.00000000e+00,\n",
       "        -4.97379915e-14, -5.32907052e-15],\n",
       "       [-4.97379915e-14, -1.06581410e-14,  1.42108547e-14,\n",
       "         1.00000000e+00,  3.55271368e-15],\n",
       "       [ 2.84217094e-14,  0.00000000e+00,  7.10542736e-15,\n",
       "         2.84217094e-14,  1.00000000e+00]])"
      ]
     },
     "execution_count": 235,
     "metadata": {},
     "output_type": "execute_result"
    }
   ],
   "source": [
    "mat.dot(inv(mat))"
   ]
  },
  {
   "cell_type": "code",
   "execution_count": 236,
   "metadata": {},
   "outputs": [],
   "source": [
    "q, r = qr(mat)"
   ]
  },
  {
   "cell_type": "code",
   "execution_count": 237,
   "metadata": {},
   "outputs": [
    {
     "data": {
      "text/plain": [
       "array([[-16.6594134 ,   2.31666263,   5.72050792,  14.88559643,\n",
       "         -6.47767391],\n",
       "       [  0.        ,  -4.06568893,  -4.52633617,   0.5048336 ,\n",
       "          1.38209439],\n",
       "       [  0.        ,   0.        ,  -4.74467284,   3.01913712,\n",
       "         -3.11074157],\n",
       "       [  0.        ,   0.        ,   0.        ,  -0.71181903,\n",
       "          1.8900838 ],\n",
       "       [  0.        ,   0.        ,   0.        ,   0.        ,\n",
       "          0.07374538]])"
      ]
     },
     "execution_count": 237,
     "metadata": {},
     "output_type": "execute_result"
    }
   ],
   "source": [
    "r"
   ]
  },
  {
   "cell_type": "code",
   "execution_count": 238,
   "metadata": {},
   "outputs": [],
   "source": [
    "# 随机数\n",
    "\n",
    "samples = np.random.normal(size=(4, 4)) #正态分布"
   ]
  },
  {
   "cell_type": "code",
   "execution_count": 239,
   "metadata": {},
   "outputs": [],
   "source": [
    "from random import normalvariate"
   ]
  },
  {
   "cell_type": "code",
   "execution_count": 240,
   "metadata": {},
   "outputs": [
    {
     "data": {
      "text/plain": [
       "[-1.6845864581422227,\n",
       " -1.0583140506775923,\n",
       " -0.12103712011891342,\n",
       " 0.6986148680474068,\n",
       " 0.3327575548194889,\n",
       " -0.38352880784904186,\n",
       " -1.064802324638378,\n",
       " 0.5927829334257447,\n",
       " 0.7660763971545371,\n",
       " -0.9323071112921707,\n",
       " 1.1928390434861906,\n",
       " 0.6755639500459282,\n",
       " 0.6539791971785194,\n",
       " -0.2472724468683085,\n",
       " -1.018713939364736,\n",
       " 0.12648864879384175,\n",
       " -0.0037604695485002476,\n",
       " 1.161479685577537,\n",
       " 0.745029779893099,\n",
       " -0.14038383399501578,\n",
       " 1.123034107605981,\n",
       " 1.0765809742077153,\n",
       " 0.478225652889748,\n",
       " 2.2008315319463922,\n",
       " -0.6350708042817865,\n",
       " -0.9212146702596172,\n",
       " -0.42268630834351056,\n",
       " -0.2565780399005683,\n",
       " -1.5863057029151286,\n",
       " -1.8076805874295563,\n",
       " -0.8226972703455889,\n",
       " -0.10418335093616686,\n",
       " -1.643789332563822,\n",
       " 0.3503553816595061,\n",
       " 0.5141911959338417,\n",
       " 0.36745733393820207,\n",
       " -0.44261272676051305,\n",
       " -0.019018816681364844,\n",
       " -0.5565517494049966,\n",
       " -1.2135830054768078,\n",
       " 0.33679461199493677,\n",
       " 0.05768459538540612,\n",
       " 0.222330976351294,\n",
       " -0.7839089692404008,\n",
       " -1.033493346400688,\n",
       " 0.30402879737715416,\n",
       " -1.1298770390007222,\n",
       " -0.2555906921130777,\n",
       " 2.2176583350424868,\n",
       " -0.0873467472748175,\n",
       " -0.06914878301854616,\n",
       " -1.233350889615814,\n",
       " 0.36505060986631754,\n",
       " 1.220356039477284,\n",
       " 0.07594597193082427,\n",
       " -0.6736998061641263,\n",
       " -0.4629510233302583,\n",
       " -0.2553505221380921,\n",
       " -0.8784063393164091,\n",
       " -1.4079083491651672,\n",
       " -0.415467670654226,\n",
       " 0.11642355189093088,\n",
       " 1.661923798015349,\n",
       " -0.8414600593929292,\n",
       " 1.004263521642279,\n",
       " -1.3886419945955992,\n",
       " 2.7805946377172477,\n",
       " 0.32200539381845383,\n",
       " 0.7129770460658154,\n",
       " 0.15417672751457306,\n",
       " -0.14417079115379872,\n",
       " -0.4253117959739086,\n",
       " -0.707913933666395,\n",
       " -1.3804763180810264,\n",
       " -1.6502085543263474,\n",
       " -0.7640028484938914,\n",
       " 0.49286063390671636,\n",
       " -0.25227467890374644,\n",
       " -0.8467682826706171,\n",
       " -1.8156240805066817,\n",
       " 0.5370803689554529,\n",
       " 0.518821375086789,\n",
       " -1.2019894103083737,\n",
       " -2.976934994786667,\n",
       " -1.0264942961488621,\n",
       " -0.16409762669772124,\n",
       " -0.10061109059074004,\n",
       " -0.5844844559375468,\n",
       " 0.9701831327505459,\n",
       " -0.41685150408258953,\n",
       " -2.2596167929916477,\n",
       " 0.4003085269199818,\n",
       " 0.5575123276268308,\n",
       " 0.7658973064945953,\n",
       " 0.5163791663994551,\n",
       " -0.15839655191236704,\n",
       " 0.7705977670657421,\n",
       " 0.9444571567755965,\n",
       " 1.1371060094000394,\n",
       " 0.5324055980244099,\n",
       " 0.6568014579087471,\n",
       " 0.6702021311222,\n",
       " 0.04721958236795308,\n",
       " 2.758179701275516,\n",
       " -0.4761448537389085,\n",
       " 0.7745462884350778,\n",
       " -0.22405200373100834,\n",
       " 1.4440347923038266,\n",
       " -1.3960540191329733,\n",
       " 0.38232142880628356,\n",
       " -1.523414131690767,\n",
       " -0.4654336396378766,\n",
       " -0.44669778599600474,\n",
       " 0.6626438762474464,\n",
       " -0.7098252064554532,\n",
       " -1.2812277538771217,\n",
       " 0.8982655865937704,\n",
       " 0.6737976579924194,\n",
       " -1.6018069208398589,\n",
       " 1.0083515183658367,\n",
       " 0.3458472472530638,\n",
       " -0.2098271265980308,\n",
       " 2.416442454557643,\n",
       " 0.37149155709532233,\n",
       " -0.47501363799533497,\n",
       " 0.4164491188874384,\n",
       " -0.851485070520058,\n",
       " -0.4752826791764396,\n",
       " 0.05658426917316196,\n",
       " -0.9766651804359349,\n",
       " 0.3661926561366583,\n",
       " 0.05882216907534616,\n",
       " 1.0189498415800127,\n",
       " -0.7774005105038979,\n",
       " 1.8210341979796207,\n",
       " -0.6185849955376367,\n",
       " 0.3667917306365364,\n",
       " 2.422689521467443,\n",
       " 0.5527739158890737,\n",
       " 1.1213247412768919,\n",
       " 0.2308109632006729,\n",
       " 1.7129293119120412,\n",
       " 0.5255281333192268,\n",
       " -0.5319664158131774,\n",
       " 1.6268135353708353,\n",
       " 0.10685913911995179,\n",
       " -0.1784326838916176,\n",
       " 0.856624139279576,\n",
       " 0.8929353803978455,\n",
       " 0.3715477989616249,\n",
       " 0.6058350957983635,\n",
       " 0.9000611832821741,\n",
       " -1.5610365172906036,\n",
       " -0.4586780408969671,\n",
       " 1.9318141712064165,\n",
       " 0.0758615901438812,\n",
       " -1.0756543610283442,\n",
       " 0.5616660780070751,\n",
       " -0.7082893169954358,\n",
       " 0.5338068053000271,\n",
       " -0.19514751326972338,\n",
       " 0.1594336570101976,\n",
       " 0.6591809699498288,\n",
       " 1.4051441037755923,\n",
       " 1.240750036914659,\n",
       " -2.4469711352033383,\n",
       " 0.26070376325897465,\n",
       " 0.012736778803635487,\n",
       " 0.7689504139085382,\n",
       " -0.22895548672576424,\n",
       " 0.3336232729982236,\n",
       " 0.0896613163071327,\n",
       " 0.44781333201279616,\n",
       " -0.12777721299456798,\n",
       " 1.5632104336480914,\n",
       " 1.8573802815115275,\n",
       " 0.4498561883102961,\n",
       " 1.5685616103942641,\n",
       " -0.5459363155302962,\n",
       " -0.9059825272715945,\n",
       " 0.8476093214105199,\n",
       " 0.33567558308032847,\n",
       " -0.5358709798647758,\n",
       " 0.20275099891859424,\n",
       " 0.8119219980166147,\n",
       " -0.3150914805271166,\n",
       " 0.3972131699946719,\n",
       " 2.2944183242394383,\n",
       " 1.5221077573843909,\n",
       " -0.7740269810959974,\n",
       " -0.40883094641901235,\n",
       " 0.2203597018096921,\n",
       " 0.18602134223667957,\n",
       " 1.1767679663798958,\n",
       " 0.23736908004384508,\n",
       " -2.241887339583233,\n",
       " -1.1050528966481095,\n",
       " 0.5591315459688895,\n",
       " -0.8856914136629765,\n",
       " 0.18321804635024272,\n",
       " -0.5101913115956962,\n",
       " -0.48059628578789937,\n",
       " 1.680104594801737,\n",
       " -0.9307941730114876,\n",
       " -0.7791862864052527,\n",
       " -2.2612892937315188,\n",
       " -0.22748973195680047,\n",
       " -0.4780969102063243,\n",
       " 0.781384340893697,\n",
       " 0.11377699165265202,\n",
       " 0.690635915306034,\n",
       " -0.399276939397355,\n",
       " 0.20961749070342173,\n",
       " -0.2763374247300961,\n",
       " -0.34995579104711483,\n",
       " 0.1162201866978009,\n",
       " 0.5223798393851077,\n",
       " 0.9777536493873903,\n",
       " -2.1566170705879855,\n",
       " 2.075858630471639,\n",
       " 1.7236543458031446,\n",
       " 0.7070617605938552,\n",
       " 0.7543254912466181,\n",
       " -0.9945838625308426,\n",
       " 0.06711091340118201,\n",
       " 0.07032610823088709,\n",
       " -0.5499136086381867,\n",
       " -0.3472074557714728,\n",
       " -1.0737579586225459,\n",
       " 0.4065222697002818,\n",
       " -0.07826717434970827,\n",
       " 0.5585425582266481,\n",
       " -0.31884932400644067,\n",
       " 0.888118731167337,\n",
       " -0.8285335169725836,\n",
       " -1.9033221234037598,\n",
       " 0.8145195300688581,\n",
       " -0.30985631134705544,\n",
       " -0.5806717969012063,\n",
       " 1.0086826039656531,\n",
       " -0.08022550815023648,\n",
       " 0.7136019277122657,\n",
       " -2.3540465645294972,\n",
       " -0.17186289029558918,\n",
       " -0.935669689440448,\n",
       " -0.3352500631531709,\n",
       " 0.3248979813068387,\n",
       " -0.5886359258967201,\n",
       " -1.0820562536905853,\n",
       " 0.7653807968486374,\n",
       " 0.6108296675962301,\n",
       " -1.2010910153395529,\n",
       " -0.8019579536046229,\n",
       " -0.8016404228042624,\n",
       " -1.3213794646929737,\n",
       " -0.5745444791071557,\n",
       " -2.059837085898468,\n",
       " -0.7781719435880621,\n",
       " 1.5180778726944322,\n",
       " 0.7122521284543969,\n",
       " 0.15770353532587686,\n",
       " 0.2950436526284142,\n",
       " -0.913453756582262,\n",
       " -0.30125915785431184,\n",
       " 0.7859464030071466,\n",
       " 1.0099559119542667,\n",
       " 0.19117687654011614,\n",
       " -0.032219919755756034,\n",
       " -0.18844381434151553,\n",
       " -1.7308463402266778,\n",
       " 0.1410338156803078,\n",
       " -0.19897018250510226,\n",
       " 0.587139667279093,\n",
       " -0.5536093930615257,\n",
       " -0.655250410741333,\n",
       " -0.28115689131697236,\n",
       " -2.6439975534045685,\n",
       " 0.09326081311643303,\n",
       " -1.0648310031374921,\n",
       " -1.1565381876529737,\n",
       " -2.094534086583496,\n",
       " -1.3670720722395815,\n",
       " -1.5504194260809587,\n",
       " -0.3143810207740165,\n",
       " -1.4073429655141776,\n",
       " -0.39347614004114756,\n",
       " 0.5798426429352553,\n",
       " 0.04332569643070999,\n",
       " 1.194855392096049,\n",
       " -1.1371539936946633,\n",
       " 0.4422954395210687,\n",
       " -0.9493169600579139,\n",
       " -0.9944287113089589,\n",
       " 0.3596144871945845,\n",
       " 1.3859348824948854,\n",
       " 0.21383323426056317,\n",
       " 0.48347018711129297,\n",
       " 0.8153552829965212,\n",
       " 0.6483847201278546,\n",
       " -3.202147333592283,\n",
       " 1.2344094922832447,\n",
       " -2.034987410250974,\n",
       " 0.7343942648578958,\n",
       " -0.9593343559161851,\n",
       " -0.25218679890553797,\n",
       " -1.1342389686150531,\n",
       " 0.7897031645271926,\n",
       " -0.5550635875050723,\n",
       " -0.47204896496415355,\n",
       " 0.7259096301046929,\n",
       " 0.9102760442628814,\n",
       " -0.5084212353556944,\n",
       " 0.03910347567127271,\n",
       " -0.9032587334681829,\n",
       " -0.5549864863083558,\n",
       " -1.4809663247826745,\n",
       " 1.8634103697957993,\n",
       " 0.4365148042168545,\n",
       " 0.16816515499334014,\n",
       " -1.2602159865816311,\n",
       " -0.7519027950621898,\n",
       " 0.46936762160033346,\n",
       " -0.4817415395345138,\n",
       " -1.4405074835354423,\n",
       " -0.433336387517302,\n",
       " -1.3335397319539464,\n",
       " -1.0577251122877387,\n",
       " 0.5481239676204325,\n",
       " 1.0202748553860974,\n",
       " -0.9853679806049889,\n",
       " -0.3545255162355856,\n",
       " -1.5164016334791295,\n",
       " 1.0101448127232684,\n",
       " -0.28767142051705535,\n",
       " 0.8405298793673898,\n",
       " -0.9761044795786077,\n",
       " 0.7862529927995286,\n",
       " 0.4180350268465739,\n",
       " -1.3378791246094228,\n",
       " -0.05686494592153468,\n",
       " -0.5398679364430666,\n",
       " -0.8912834647707231,\n",
       " 0.870683317131049,\n",
       " 0.44535504922722186,\n",
       " 0.8822524231422311,\n",
       " -0.5172599441161216,\n",
       " 0.435272287055032,\n",
       " 0.8370301567942627,\n",
       " 1.3256218473118153,\n",
       " -0.006435150936687432,\n",
       " 0.8411655392548067,\n",
       " 0.7865059328509308,\n",
       " 0.2764691584034914,\n",
       " 0.22651547339296396,\n",
       " -1.1281335151638114,\n",
       " 0.9535204341341067,\n",
       " -1.14828782581474,\n",
       " 0.5343767821462222,\n",
       " -0.23708023399940928,\n",
       " 0.15722025807852646,\n",
       " 0.7718858424975357,\n",
       " -0.7403919233085988,\n",
       " -0.7237617584361205,\n",
       " 0.28970339117821076,\n",
       " 0.01505505700835118,\n",
       " -0.6470750294150696,\n",
       " 1.4107518238021297,\n",
       " -0.5428099369059798,\n",
       " 0.08131139915693267,\n",
       " -0.13422514401999694,\n",
       " -0.15569777951198036,\n",
       " 0.9368007645014672,\n",
       " -1.8057547746487368,\n",
       " -0.109074373234651,\n",
       " 0.26342250738288686,\n",
       " 1.194765100660005,\n",
       " -0.08605868531697819,\n",
       " 0.925834301561184,\n",
       " -0.3840074361784434,\n",
       " -0.0018845910965263825,\n",
       " 0.19731985300359292,\n",
       " -0.027707967612753875,\n",
       " 0.9325637523409717,\n",
       " -0.7184674455254644,\n",
       " -1.0776961373783824,\n",
       " 1.0287446699949152,\n",
       " -0.3645759648590085,\n",
       " 0.6745525638524746,\n",
       " -0.6991343998906882,\n",
       " -3.0108535041203726,\n",
       " 2.056329880612832,\n",
       " -0.9797532841872172,\n",
       " 0.0411385676743987,\n",
       " -0.5014852575458666,\n",
       " 0.46403796278018344,\n",
       " 0.1089398399658905,\n",
       " -0.5882017248000442,\n",
       " 0.30611038890429615,\n",
       " 0.5910565823231354,\n",
       " 0.019443368783535118,\n",
       " 1.2995225277342877,\n",
       " -2.354186790620587,\n",
       " 0.5069395422786352,\n",
       " 0.8249773826040471,\n",
       " 0.1710690107801686,\n",
       " 0.3526217386797821,\n",
       " 0.7275014464397731,\n",
       " 0.42773987841057776,\n",
       " -1.3083815713148665,\n",
       " 0.32568181437967575,\n",
       " -0.6092117347011257,\n",
       " -1.6469349199024153,\n",
       " 0.41163895116391513,\n",
       " 0.8334406570909593,\n",
       " -0.728517441898,\n",
       " 1.1973954840585859,\n",
       " 0.23343023373000857,\n",
       " -1.1736491134571567,\n",
       " 0.19679271932984638,\n",
       " 1.6117139591125664,\n",
       " -1.8589872220320351,\n",
       " -1.6831244417259126,\n",
       " 0.842070073313157,\n",
       " 1.1896716042813658,\n",
       " 0.4729469955936704,\n",
       " -0.6410737213605625,\n",
       " -1.4984707095129928,\n",
       " -0.8299885695552954,\n",
       " 0.2654775495225294,\n",
       " -0.6506053124553295,\n",
       " 0.8105316053134024,\n",
       " 0.26485704799819043,\n",
       " -0.8044989547933492,\n",
       " -0.3629774156270966,\n",
       " -0.5351041040714289,\n",
       " -0.9324768829877821,\n",
       " 2.190997454936471,\n",
       " -0.6030325340656931,\n",
       " 0.012244558407584446,\n",
       " -1.0070501805843863,\n",
       " 1.5073166661723505,\n",
       " -2.0335145926829297,\n",
       " -0.5476827952338795,\n",
       " -1.1717986036790378,\n",
       " -0.7993875525086608,\n",
       " -0.8527045320913779,\n",
       " -0.5128813792278512,\n",
       " -0.19611347991038308,\n",
       " -1.8463532560306106,\n",
       " -1.3060569589318125,\n",
       " 1.2943153799311142,\n",
       " -0.11651204158312732,\n",
       " 1.0652754641269038,\n",
       " -0.4292223361288791,\n",
       " -0.8902422367351891,\n",
       " -0.8958377187627766,\n",
       " 0.8999982509027301,\n",
       " -0.7395859260687907,\n",
       " -0.2155121293153032,\n",
       " 0.9270187232111708,\n",
       " 1.5602962378787457,\n",
       " -0.4744605870582766,\n",
       " 0.91397983741173,\n",
       " -0.020940337060665427,\n",
       " 0.6444701118615699,\n",
       " -0.17166667759206414,\n",
       " -1.4553316666590388,\n",
       " -1.5656515155867108,\n",
       " 0.002829656931423864,\n",
       " 0.1900078581847348,\n",
       " 1.5177193756300718,\n",
       " -1.6036295723782412,\n",
       " -0.925195073185986,\n",
       " -1.9048434252399415,\n",
       " 0.7640245880978277,\n",
       " 0.3625272028016096,\n",
       " -0.12304141913791859,\n",
       " 0.4022100696388824,\n",
       " -0.3111371484271802,\n",
       " 1.9638422465490977,\n",
       " -1.1039715484663235,\n",
       " 1.5836217138456385,\n",
       " -0.9935521123492781,\n",
       " 0.5503829389734046,\n",
       " -1.4595994892824624,\n",
       " 0.4676791182823252,\n",
       " -0.859161591014105,\n",
       " 1.9445242045593927,\n",
       " -1.0762125860862266,\n",
       " 0.8939053532585427,\n",
       " 0.18691579285105228,\n",
       " -0.0520787192111686,\n",
       " -1.4149005024714352,\n",
       " 0.44083123777946764,\n",
       " -0.5684299255070943,\n",
       " 1.7956378546925977,\n",
       " -1.4673201027108453,\n",
       " 0.40299634973704,\n",
       " 0.8061627236839057,\n",
       " 1.5472337740579645,\n",
       " -1.1574468734855063,\n",
       " -1.2295437822073296,\n",
       " -0.0009457755186570878,\n",
       " 0.1981492694999069,\n",
       " 1.0145497480326942,\n",
       " 1.7736074105208695,\n",
       " 1.239064633883133,\n",
       " -0.30623821008632823,\n",
       " -0.1253363678372508,\n",
       " -0.11566265772731084,\n",
       " -2.4062291762190906,\n",
       " -0.490057668078369,\n",
       " 0.2657259785181527,\n",
       " 0.3323872472374033,\n",
       " -0.7719150191207295,\n",
       " 1.5159095243830194,\n",
       " -0.20701173158940459,\n",
       " -0.5080472061044192,\n",
       " -0.5933684831319096,\n",
       " 0.28564037488155986,\n",
       " -0.8745431202466253,\n",
       " -0.30876849065850237,\n",
       " -0.786347261000495,\n",
       " -0.5797179272737764,\n",
       " 2.39670378752993,\n",
       " 0.432110055561966,\n",
       " 0.14371289096097326,\n",
       " -0.47961128253364393,\n",
       " -0.1613743174711084,\n",
       " -1.192577946983465,\n",
       " -0.4442936998945895,\n",
       " 1.603513292557307,\n",
       " -0.6968807460569012,\n",
       " 0.562638174952421,\n",
       " 0.23354267588938785,\n",
       " -0.23083239171572487,\n",
       " -0.9050216594910019,\n",
       " -0.5890467729937943,\n",
       " 0.4862217013972682,\n",
       " 1.9957318136528528,\n",
       " 1.1872328551589264,\n",
       " -0.3278148533735314,\n",
       " -0.22926470590116296,\n",
       " 1.1153271067196933,\n",
       " -0.684694187148624,\n",
       " 0.36764563388753524,\n",
       " -0.06839297120655599,\n",
       " 1.1863095617296844,\n",
       " -1.3661838507073296,\n",
       " 0.047461951200856695,\n",
       " -1.2258563892738112,\n",
       " -0.6948285210858379,\n",
       " -0.2949929031008854,\n",
       " -0.9619031190610939,\n",
       " 0.7362699133527963,\n",
       " 0.7845171786466534,\n",
       " 0.1581686245889067,\n",
       " 0.9277440878252186,\n",
       " 0.2664423128830234,\n",
       " -1.6200902576896525,\n",
       " 0.756118094395469,\n",
       " -0.22048285638554754,\n",
       " 0.01141726326015773,\n",
       " 0.9406037955900323,\n",
       " 0.683254097651627,\n",
       " 1.9356402863634468,\n",
       " 0.2922563424117293,\n",
       " 0.002546154654855407,\n",
       " 1.4376035150529929,\n",
       " 0.1016675261647948,\n",
       " 0.8109540412951635,\n",
       " -0.326915319822197,\n",
       " -0.6757087577629626,\n",
       " 1.0732323343426886,\n",
       " -0.21009310040307813,\n",
       " 0.6701350749408526,\n",
       " -1.5309998534095715,\n",
       " 0.7155585018763583,\n",
       " -1.2118098441158744,\n",
       " -0.7951167487633315,\n",
       " -0.6936728501669326,\n",
       " 0.7343201454554729,\n",
       " -0.323772036209776,\n",
       " -0.3624876947819031,\n",
       " -0.7422336509338564,\n",
       " -2.2937962443141684,\n",
       " -1.155123829957999,\n",
       " 0.4245818430719157,\n",
       " 0.3381186486605239,\n",
       " 1.328015062605033,\n",
       " -1.0959606033064508,\n",
       " -0.16195156668472604,\n",
       " 2.2512389016342342,\n",
       " -0.6241967626587352,\n",
       " 0.07249702983071415,\n",
       " -0.03678057662226093,\n",
       " 0.7484500141852123,\n",
       " -1.0225567752586373,\n",
       " 0.08424794664830029,\n",
       " 0.9794062780026608,\n",
       " -0.0058490066179167615,\n",
       " 0.014828577912131116,\n",
       " -1.2053900809043467,\n",
       " -0.7207499056006044,\n",
       " -0.28255212610032865,\n",
       " 0.7862727565104776,\n",
       " -0.24943483516581907,\n",
       " 0.29830050706505706,\n",
       " -0.23708114718889395,\n",
       " 1.1803325083752727,\n",
       " -0.23872119732799907,\n",
       " -0.6185469146399537,\n",
       " -0.12561625793294576,\n",
       " -0.4626471843093265,\n",
       " 1.069869803437693,\n",
       " -0.4946493030796768,\n",
       " -0.23071665893147078,\n",
       " -0.9389799596394581,\n",
       " 0.41024344608409347,\n",
       " -1.7270421943747327,\n",
       " 1.1985082313851716,\n",
       " -1.3726534894482632,\n",
       " 0.4880462721344339,\n",
       " -0.102923468698962,\n",
       " 0.14363623207206938,\n",
       " -1.6091590884010512,\n",
       " -0.19179130291291782,\n",
       " 1.4688670935311041,\n",
       " -1.194332269765888,\n",
       " -1.1055735863616647,\n",
       " -1.0803055876359604,\n",
       " 1.0403410731483593,\n",
       " 0.5606404402790268,\n",
       " 0.017871162177581147,\n",
       " 0.9107866135605946,\n",
       " 1.1662035669122817,\n",
       " -0.8004524105094917,\n",
       " 1.3680441582902767,\n",
       " -1.3538984798888274,\n",
       " -0.4453429798950874,\n",
       " -0.20323537442648873,\n",
       " 0.638618421113455,\n",
       " 0.9427072143789079,\n",
       " 0.451658307672219,\n",
       " 0.23848553853409699,\n",
       " 3.4054464852277926,\n",
       " 1.0772423007133836,\n",
       " -2.2956531164670784,\n",
       " -0.06879791762607446,\n",
       " 0.8867710927321784,\n",
       " 0.23818994375688413,\n",
       " 0.09614886967418204,\n",
       " -1.049969897539113,\n",
       " 0.3519243712326945,\n",
       " -1.1372230958557459,\n",
       " -1.6103141974807582,\n",
       " 0.6551497992375002,\n",
       " -1.047437865724018,\n",
       " -0.2719840102462347,\n",
       " 0.2600598539904925,\n",
       " 1.3318253432496794,\n",
       " 0.3281752563860923,\n",
       " -0.14853615940528003,\n",
       " 1.4992004786800557,\n",
       " 0.8004107168736823,\n",
       " -1.4204015623208055,\n",
       " -0.3023902881132321,\n",
       " -0.10676918545598443,\n",
       " -0.7565535187816671,\n",
       " 0.008070703822126407,\n",
       " -1.476788294898504,\n",
       " 0.3804041388521672,\n",
       " 0.16200918728555133,\n",
       " -1.0017149492764263,\n",
       " -1.2781063236475292,\n",
       " 0.6793885203319383,\n",
       " 0.023509838491138316,\n",
       " -0.679063438596526,\n",
       " -1.411449039756626,\n",
       " -2.2962747532695698,\n",
       " 0.10669157200720376,\n",
       " 0.4810288099679796,\n",
       " 1.3349426183029651,\n",
       " 0.0675274911325843,\n",
       " -1.9151275873662932,\n",
       " -0.7981189500613877,\n",
       " -0.3093033719984426,\n",
       " 1.4686160991421382,\n",
       " 1.218202915214337,\n",
       " 0.6454313725236194,\n",
       " -0.4841722716784402,\n",
       " 0.2799556309621031,\n",
       " -1.280617512452274,\n",
       " -1.6488359679666356,\n",
       " -0.22054105778310806,\n",
       " 0.31414857801473894,\n",
       " 0.07319236176161448,\n",
       " 0.17786421910915404,\n",
       " 0.046207717606819056,\n",
       " 0.7344284143989745,\n",
       " -1.6124741758419077,\n",
       " 1.1627933707554368,\n",
       " -1.3731230068495637,\n",
       " -1.1569791891160992,\n",
       " -0.6574740408419693,\n",
       " -0.1124891999691367,\n",
       " 2.406739603343356,\n",
       " -0.5263289101452411,\n",
       " -0.20161235185211157,\n",
       " 0.5093965418872094,\n",
       " 0.8313091521902699,\n",
       " -1.4226241251871576,\n",
       " -1.5903566224866832,\n",
       " 0.3471933117643115,\n",
       " 1.6147009407958413,\n",
       " -1.8851125725295925,\n",
       " 1.745229693117173,\n",
       " 0.3663369992342573,\n",
       " 0.19130062042256615,\n",
       " -0.6787972696065036,\n",
       " 0.1356209402970078,\n",
       " -0.061313646041834265,\n",
       " -0.7553957346731619,\n",
       " 1.7626943082034414,\n",
       " -0.06674689843740833,\n",
       " 0.8130964094885167,\n",
       " -0.732287191422986,\n",
       " -0.5630874489458566,\n",
       " -0.4552783135594997,\n",
       " 0.9468681990849511,\n",
       " 0.46341371482019905,\n",
       " 0.66008288784686,\n",
       " 0.7479771017261961,\n",
       " -0.7310819617142125,\n",
       " 0.47095530824809817,\n",
       " -0.34214909280179545,\n",
       " -0.9792516848449805,\n",
       " 1.291653017015065,\n",
       " 1.8749731384006463,\n",
       " -0.8978103937427598,\n",
       " -1.270169791472858,\n",
       " 0.49932019213060524,\n",
       " -0.892475044294335,\n",
       " -0.6284103779550293,\n",
       " 1.4145989187784533,\n",
       " -1.2709173657037662,\n",
       " -0.23068110362170777,\n",
       " 0.21966222918541795,\n",
       " -0.20531608572840923,\n",
       " -1.5328498009110996,\n",
       " -2.152778380336025,\n",
       " -0.5222954955867203,\n",
       " 1.3806976162983975,\n",
       " -1.5136691982711503,\n",
       " -0.725606072463643,\n",
       " 0.935546149163006,\n",
       " 0.45371265333364813,\n",
       " 1.3864041040487198,\n",
       " 1.1526806655697162,\n",
       " -1.5407869567254058,\n",
       " 0.5838708046135916,\n",
       " -1.7980458990751467,\n",
       " -0.4789880823589972,\n",
       " -0.4464726554666326,\n",
       " -0.34416353362082336,\n",
       " -0.04508880597145951,\n",
       " 1.608703278716246,\n",
       " -0.6970125446849016,\n",
       " 0.8155834049320263,\n",
       " 0.621059862129974,\n",
       " 0.3764653246962773,\n",
       " -1.6983659687103159,\n",
       " -1.5705841665933995,\n",
       " -0.5357366032906038,\n",
       " -0.9831633044640209,\n",
       " 0.4770164527398003,\n",
       " -0.5212467192137547,\n",
       " -0.4881819910028911,\n",
       " -1.4187357402971121,\n",
       " -2.7693730506070646,\n",
       " -0.14847970202163158,\n",
       " 0.04335305239445874,\n",
       " -0.7146565250506614,\n",
       " -0.6969437517415642,\n",
       " 0.07494936701546004,\n",
       " 0.18631527731882155,\n",
       " -0.8350583280668332,\n",
       " -0.48252546295440013,\n",
       " 0.2201659872935887,\n",
       " -1.4814605006452712,\n",
       " 0.08775852806628888,\n",
       " -0.4948713145838074,\n",
       " -0.04391263370324292,\n",
       " 0.9550479900200958,\n",
       " -0.8834968537655361,\n",
       " 0.3213490360927226,\n",
       " -0.7614097416343916,\n",
       " -0.3096914830094862,\n",
       " 0.2076954083779859,\n",
       " -1.6965410529414775,\n",
       " 0.676269789865684,\n",
       " 0.141372424603452,\n",
       " -0.1992337812211984,\n",
       " 0.5050979364611887,\n",
       " -0.5596979620867004,\n",
       " -1.2015217797849125,\n",
       " 1.946709311249265,\n",
       " -0.18304776685799043,\n",
       " -1.0875570403798687,\n",
       " 1.4773822903418643,\n",
       " -0.16259110914949582,\n",
       " -1.967802103957349,\n",
       " 0.5080055505484429,\n",
       " 1.6290086908138461,\n",
       " -1.3991364596563765,\n",
       " -0.7626015123748172,\n",
       " 0.026017167883616448,\n",
       " -0.7931826822122694,\n",
       " -1.1378657616368117,\n",
       " -2.097741412929283,\n",
       " 0.8352546748901127,\n",
       " 0.890856771077063,\n",
       " -1.2066950031089863,\n",
       " 0.6679945771832954,\n",
       " -0.35526422724427925,\n",
       " 0.3877128013231502,\n",
       " 0.5746895162598216,\n",
       " 0.36008960434705556,\n",
       " -0.9470921503732666,\n",
       " 0.323959965753018,\n",
       " 1.3614247058433033,\n",
       " -3.088945180213368,\n",
       " 0.5485695476007185,\n",
       " -0.6427476767968655,\n",
       " 1.5093743107239452,\n",
       " 1.6690257086708433,\n",
       " -0.829856481525649,\n",
       " 0.4671778409725787,\n",
       " 1.5152435756839278,\n",
       " -0.9502003038116684,\n",
       " 1.0828440492616045,\n",
       " -0.9049510869329336,\n",
       " -0.8694664139907832,\n",
       " 1.001940799922846,\n",
       " 0.08339811733984373,\n",
       " 0.3245180884641282,\n",
       " 0.7946886811215356,\n",
       " -0.16601092465369535,\n",
       " -0.26761809838139594,\n",
       " -1.651376526870504,\n",
       " -0.38803487473830695,\n",
       " 1.1341456772713085,\n",
       " 0.4448883145321183,\n",
       " 0.08136773034106642,\n",
       " 0.3668950497557141,\n",
       " -0.14557799028290613,\n",
       " 2.5622828484854563,\n",
       " 0.6294113239397728,\n",
       " 1.3731412068593947,\n",
       " -0.4130855728567173,\n",
       " -1.2307706923554478,\n",
       " -1.463772625570088,\n",
       " 0.19788837093776532,\n",
       " -0.5279043956945865,\n",
       " -0.7809161805441159,\n",
       " 0.6821153867963284,\n",
       " 0.8970544844907163,\n",
       " 0.4919850462307091,\n",
       " -1.236433626980242,\n",
       " -2.4745081732174143,\n",
       " 1.0122635456404112,\n",
       " 1.5969284842494045,\n",
       " -0.2470576730986865,\n",
       " -0.6353632149159357,\n",
       " -0.3500186264062024,\n",
       " -1.9683443835136323,\n",
       " -0.3284678822322504,\n",
       " -0.9194571587595252,\n",
       " -0.70133899634634,\n",
       " -0.6451306329107426,\n",
       " -1.1002512872241812,\n",
       " -0.6005673393458791,\n",
       " 0.667396352622194,\n",
       " -0.7912932418260499,\n",
       " 0.9088273385850589,\n",
       " -1.8996309499917081,\n",
       " -0.3552510085792559,\n",
       " 1.8474410988595074,\n",
       " 1.9650371912426758,\n",
       " 1.184733337151037,\n",
       " 0.1203861800463982,\n",
       " -0.6910776080901727,\n",
       " -0.3799373396969842,\n",
       " -0.9896989581499666,\n",
       " 1.082584095081511,\n",
       " 2.4587846963794293,\n",
       " -0.30522174720921413,\n",
       " -0.4199820752819335,\n",
       " -0.5990685554308713,\n",
       " -0.9120846319005553,\n",
       " 0.08521920853728562,\n",
       " 0.3804178189514335,\n",
       " -1.4455426290175217,\n",
       " 1.3905999979540289,\n",
       " 0.48455428989760924,\n",
       " -2.7304724273524905,\n",
       " 0.48894433255353054,\n",
       " 1.6623898492769824,\n",
       " 0.5327143615669209,\n",
       " -1.1726778907050603,\n",
       " -0.5009035051005973,\n",
       " 1.2318456454724291,\n",
       " -0.1218384214046648,\n",
       " -0.7257232318064476,\n",
       " 1.6530743193163513,\n",
       " 0.6256519481598232,\n",
       " 2.62454546366909,\n",
       " -0.5199113313394675,\n",
       " 1.7119041828166441,\n",
       " -3.3866409568496225,\n",
       " -0.7590513627146421,\n",
       " -0.35539540883327886,\n",
       " 1.8512024409406704,\n",
       " -1.0751717007008819,\n",
       " -1.2810278168806264,\n",
       " -0.17869911900112703,\n",
       " -2.3728216987366193,\n",
       " -0.5313566116234734,\n",
       " 1.0569451508477408,\n",
       " -0.881767790756597,\n",
       " 1.6093144865349613,\n",
       " -0.02545758665796183,\n",
       " 0.1320423980733896,\n",
       " 0.3593712437887355,\n",
       " -0.3483015777763229,\n",
       " -0.5722547643890123,\n",
       " -0.1487590661399761,\n",
       " -0.7182368346538647,\n",
       " -0.5793427667895703,\n",
       " -0.06532755174064375,\n",
       " 2.256404643429413,\n",
       " -0.5414409178068152,\n",
       " -1.8270559769389458,\n",
       " -0.021374761845599062,\n",
       " 0.13958487859591664,\n",
       " -1.0174874219651633,\n",
       " 1.5314007290347762,\n",
       " 0.8957935203344187,\n",
       " -0.44559433310884095,\n",
       " -0.5806005572490031,\n",
       " -0.18255129664021055,\n",
       " -1.4882222667228175,\n",
       " 0.508063898119638,\n",
       " -1.1442205203308133,\n",
       " 0.11324955391414422,\n",
       " 0.8372692481501772,\n",
       " 1.0457185858557523,\n",
       " 0.8444586232161327,\n",
       " 0.6753658156038236,\n",
       " 2.4598836127151427,\n",
       " 0.5485247900179573,\n",
       " -1.033949254637821,\n",
       " -1.4508639109604975,\n",
       " -0.7499935549650425,\n",
       " -1.5193304680512036,\n",
       " -0.10853387499924337,\n",
       " 0.3113984367275982,\n",
       " 2.857601094798345,\n",
       " -1.382452590799459,\n",
       " 0.4725858020388124,\n",
       " 0.893862044230916,\n",
       " 1.368815449816689,\n",
       " 0.24694032599535926,\n",
       " 1.07753225658181,\n",
       " 0.349381903924434,\n",
       " 1.5662010919670106,\n",
       " 2.505740652057562,\n",
       " -1.126045940971402,\n",
       " 1.030599294462332,\n",
       " 0.07085291638967792,\n",
       " -0.3972931820559324,\n",
       " -2.6212835879234953,\n",
       " 1.1254225647616547,\n",
       " 0.6335977852350114,\n",
       " 0.2324299313522269,\n",
       " -1.5008186253671405,\n",
       " -0.8435967956469811,\n",
       " -0.018990377445311447,\n",
       " 0.07306413692435494,\n",
       " 0.9387857554120119,\n",
       " 1.5958723961447867,\n",
       " -0.38140769101506894,\n",
       " -0.03154713687525545,\n",
       " -0.4861147980325337,\n",
       " 0.3353563093557626,\n",
       " 0.1939449655915585,\n",
       " -0.14609341080362226,\n",
       " 0.5638891579282537,\n",
       " -0.16120692243317694,\n",
       " 0.2712367719438886,\n",
       " ...]"
      ]
     },
     "execution_count": 240,
     "metadata": {},
     "output_type": "execute_result"
    }
   ],
   "source": [
    "N = 1000000\n",
    "%timeit \n",
    "[normalvariate(0, 1) for _ in range(N)]"
   ]
  },
  {
   "cell_type": "code",
   "execution_count": 241,
   "metadata": {},
   "outputs": [
    {
     "data": {
      "text/plain": [
       "array([-0.07521287, -0.96567349, -0.24374822, ...,  0.87549086,\n",
       "        0.4207263 ,  0.29636931])"
      ]
     },
     "execution_count": 241,
     "metadata": {},
     "output_type": "execute_result"
    }
   ],
   "source": [
    "%timeit \n",
    "np.random.normal(size=N)"
   ]
  },
  {
   "cell_type": "code",
   "execution_count": 242,
   "metadata": {},
   "outputs": [],
   "source": [
    "np.random.seed(1234)"
   ]
  },
  {
   "cell_type": "code",
   "execution_count": 243,
   "metadata": {},
   "outputs": [],
   "source": [
    "rng = np.random.RandomState(1234)"
   ]
  },
  {
   "cell_type": "code",
   "execution_count": 244,
   "metadata": {},
   "outputs": [
    {
     "data": {
      "text/plain": [
       "array([ 0.47143516, -1.19097569,  1.43270697, -0.3126519 , -0.72058873,\n",
       "        0.88716294,  0.85958841, -0.6365235 ,  0.01569637, -2.24268495])"
      ]
     },
     "execution_count": 244,
     "metadata": {},
     "output_type": "execute_result"
    }
   ],
   "source": [
    "rng.randn(10)"
   ]
  },
  {
   "cell_type": "code",
   "execution_count": 245,
   "metadata": {},
   "outputs": [],
   "source": [
    "arr = np.arange(24).reshape(2,3,4)"
   ]
  },
  {
   "cell_type": "code",
   "execution_count": 246,
   "metadata": {},
   "outputs": [
    {
     "data": {
      "text/plain": [
       "array([[[ 0,  1,  2,  3],\n",
       "        [ 4,  5,  6,  7],\n",
       "        [ 8,  9, 10, 11]],\n",
       "\n",
       "       [[12, 13, 14, 15],\n",
       "        [16, 17, 18, 19],\n",
       "        [20, 21, 22, 23]]])"
      ]
     },
     "execution_count": 246,
     "metadata": {},
     "output_type": "execute_result"
    }
   ],
   "source": [
    "arr"
   ]
  },
  {
   "cell_type": "code",
   "execution_count": 247,
   "metadata": {},
   "outputs": [
    {
     "data": {
      "text/plain": [
       "array([[[ 0,  1,  2,  3],\n",
       "        [ 4,  5,  6,  7],\n",
       "        [ 8,  9, 10, 11]],\n",
       "\n",
       "       [[12, 13, 14, 15],\n",
       "        [16, 17, 18, 19],\n",
       "        [20, 21, 22, 23]]])"
      ]
     },
     "execution_count": 247,
     "metadata": {},
     "output_type": "execute_result"
    }
   ],
   "source": [
    "arr.transpose(1,0,2)\n",
    "arr"
   ]
  },
  {
   "cell_type": "code",
   "execution_count": 248,
   "metadata": {},
   "outputs": [
    {
     "data": {
      "text/plain": [
       "array([[0, 1, 2],\n",
       "       [3, 4, 5],\n",
       "       [6, 7, 8]])"
      ]
     },
     "execution_count": 248,
     "metadata": {},
     "output_type": "execute_result"
    }
   ],
   "source": [
    "arr = np.arange(9).reshape(3,3)\n",
    "arr"
   ]
  },
  {
   "cell_type": "code",
   "execution_count": 249,
   "metadata": {},
   "outputs": [
    {
     "data": {
      "text/plain": [
       "array([[0, 3, 6],\n",
       "       [1, 4, 7],\n",
       "       [2, 5, 8]])"
      ]
     },
     "execution_count": 249,
     "metadata": {},
     "output_type": "execute_result"
    }
   ],
   "source": [
    "arr.transpose(1,0)"
   ]
  },
  {
   "cell_type": "code",
   "execution_count": null,
   "metadata": {},
   "outputs": [],
   "source": []
  }
 ],
 "metadata": {
  "kernelspec": {
   "display_name": "Python 3",
   "language": "python",
   "name": "python3"
  },
  "language_info": {
   "codemirror_mode": {
    "name": "ipython",
    "version": 3
   },
   "file_extension": ".py",
   "mimetype": "text/x-python",
   "name": "python",
   "nbconvert_exporter": "python",
   "pygments_lexer": "ipython3",
   "version": "3.7.1"
  }
 },
 "nbformat": 4,
 "nbformat_minor": 2
}
