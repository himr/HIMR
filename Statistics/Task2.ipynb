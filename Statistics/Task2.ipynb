{
 "cells": [
  {
   "cell_type": "markdown",
   "metadata": {},
   "source": [
    "# Task2 \n",
    "\n",
    "## E35 中心极限定理\n",
    "\n",
    "    中心极限定理指的是一定条件下，给定任意分布的总体，从总体中随机抽样，样本为n个，一共抽取m次。最后把这m次抽样分别求取平均值，那么这些平均值接近正态分布，表述了随机变量的分布规律。用于实际应用中，当研究对象数目众多并且一直变化时，就可以利用中心极限定律保证我们只需要抽取一定样本就可以预估整体对象特征的目的。\n",
    "    \n",
    "## E36 置信区间\n",
    "\n",
    "    误差范围的区间就是置信区间。\n",
    "    怎么计算？通过样本估计总体平均值求取样本的平均值和标准差。然后确定置信水平，95%的置信水平是最常用的，可以保证样本的平均值落在总体平均值的两个标准误差内，最后通过查表，找到对应的置信区间。当样本数目少于30个时，属于小样本，采用t分布。其他一般符合正态分布。\n",
    "    对应的意义？置信区间就是对象的变量范围，置信水平指的是某一数值的可信度。"
   ]
  }
 ],
 "metadata": {
  "kernelspec": {
   "display_name": "Python 3",
   "language": "python",
   "name": "python3"
  },
  "language_info": {
   "codemirror_mode": {
    "name": "ipython",
    "version": 3
   },
   "file_extension": ".py",
   "mimetype": "text/x-python",
   "name": "python",
   "nbconvert_exporter": "python",
   "pygments_lexer": "ipython3",
   "version": "3.7.3"
  }
 },
 "nbformat": 4,
 "nbformat_minor": 2
}
