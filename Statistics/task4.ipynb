{
 "cells": [
  {
   "cell_type": "markdown",
   "metadata": {},
   "source": [
    "# E62-71 线性回归"
   ]
  },
  {
   "cell_type": "markdown",
   "metadata": {},
   "source": [
    "    线性回归：样本X_{i}的输出值是其特征线性组合\n",
    "    f(x_{i})=\\sum_{m=1}^{p}w_{m}x_{im}+w_{0}=w^{T}x_{i}\n",
    "    其中w_{0}为截距。\n",
    "    线性回归的平方误差：E=\\sum_{i=1}^{n}(aX_{i}+b-Y_{i})^{2}"
   ]
  },
  {
   "cell_type": "markdown",
   "metadata": {},
   "source": [
    "# E72-81 卡方分布与方差分析"
   ]
  },
  {
   "cell_type": "markdown",
   "metadata": {},
   "source": [
    "    卡方分布：如N个相互独立的随机变量\\xi _{1}、\\xi _{2}、……、\\xi _{n}，均服从标准正态分布N（0，1），则它们的平方和Q的分布规律为卡方（\\chi ^{2}）分布，其中n为自由度。卡方分布记为Q\\sim \\chi ^{2}。\n",
    "    Q=\\sum_{i=1}^{n}\\xi _{i}^{2}"
   ]
  },
  {
   "cell_type": "markdown",
   "metadata": {},
   "source": [
    "    方差分析，又称F检验，分为单因素方差分析、双因素方差分析。\n",
    "    \n",
    "    **性质**:\n",
    "    1)\\xi^{2}\\xi^{2}(n_{1})分布在第一象限内，卡方值都是正值，呈正偏态（右偏态），随着参数n的增大，\\xi^{2}分布趋近于正态分布；卡方分布密度曲线下的面积都是1.\n",
    "\n",
    "    2)\\xi^{2}\\xi^{2}(n_{1})分布的均值与方差可以看出，随着自由度n的增大，\\xi^{2}分布向正无穷方向延伸（因为均值E越来越大），分布曲线也越来越低阔（因为方差2n越来越大）。\n",
    "\n",
    "    3）不同的自由度决定不同的卡方分布，自由度越小，\\xi_{2}分布越偏斜。\n",
    "\n",
    "    4) 若\\xi^{2}(n_{1})，\\xi^{2}(n_{2})互相独立，则：服从 \\xi^{2}分布，自由度为n_{1}+n_{2}；\n",
    "\n",
    "    5)\\xi^{2}分布的均数为自由度，记为 E(\\xi^{2}) =n。\n",
    "\n",
    "    6)\\xi^{2}分布的方差为2倍的自由度(2n)，记为 D(\\xi^{2}) = 2n。"
   ]
  }
 ],
 "metadata": {
  "kernelspec": {
   "display_name": "Python 3",
   "language": "python",
   "name": "python3"
  },
  "language_info": {
   "codemirror_mode": {
    "name": "ipython",
    "version": 3
   },
   "file_extension": ".py",
   "mimetype": "text/x-python",
   "name": "python",
   "nbconvert_exporter": "python",
   "pygments_lexer": "ipython3",
   "version": "3.7.1"
  }
 },
 "nbformat": 4,
 "nbformat_minor": 2
}
