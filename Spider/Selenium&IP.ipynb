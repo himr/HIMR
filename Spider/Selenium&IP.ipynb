{
 "cells": [
  {
   "cell_type": "markdown",
   "metadata": {},
   "source": [
    "# Task3 \n",
    "## 3.1 安装selenium并学习\n",
    "\n",
    "    安装selenium并学习。\n",
    "\n",
    "    使用selenium模拟登陆163邮箱。\n",
    "\n",
    "    163邮箱直通点：https://mail.163.com/ 。\n",
    "\n",
    "    参考资料：https://blog.csdn.net/weixin_42937385/article/details/88150379\n"
   ]
  },
  {
   "cell_type": "markdown",
   "metadata": {},
   "source": [
    "### 3.1.1 安装selenium\n",
    "    \n",
    "**安装chromedriver**\n",
    "\n",
    "    地址：http://npm.taobao.org/mirrors/chromedriver/\n",
    "    根据chrome得版本号下载，我的是76.0.3809 \n",
    "    放置chrome安装文件中，再将路径添加到环境变量。\n",
    "    \n",
    "**安装selenium**\n",
    "\n",
    "    pip install selenium\n",
    "    install selenium直接安装到python3_64位。\n",
    "    pip show selenium找到安装库路径，拷贝到anaconda安装目录中。"
   ]
  },
  {
   "cell_type": "markdown",
   "metadata": {},
   "source": [
    "### 3.1.2 登陆163邮箱"
   ]
  },
  {
   "cell_type": "code",
   "execution_count": null,
   "metadata": {},
   "outputs": [],
   "source": [
    "import time\n",
    "from selenium import webdriver\n",
    "   \n",
    "browser = webdriver.Chrome()\n",
    "url = 'http://mail.163.com/'\n",
    "browser.get(url)\n",
    "time.sleep(3)\n",
    "    \n",
    "browser.maximize_window()\n",
    "    \n",
    "time.sleep(5)\n",
    "    \n",
    "browser.switch_to.frame(0)#登录框对应的iframe,由于网页中iframe的id是动态的，所以不能用id寻找\n",
    "    \n",
    "email = browser.find_element_by_name('email')#邮箱账号输入框\n",
    "    \n",
    "email.send_keys('13265923587@163.com')#输入邮箱账号框中\n",
    "        \n",
    "password = browser.find_element_by_name('password')#密码输入框\n",
    "        \n",
    "password.send_keys('******')#密码\n",
    "        \n",
    "login_em = browser.find_element_by_id('dologin')#登陆按钮\n",
    "        \n",
    "login_em.click()#点击登陆按钮\n",
    "          \n",
    "time.sleep(10)"
   ]
  },
  {
   "cell_type": "markdown",
   "metadata": {},
   "source": [
    "## 3.2 学习IP相关知识\n",
    "\n",
    "    学习什么是IP，为什么会出现IP被封，如何应对IP被封的问题。\n",
    "\n",
    "    抓取西刺代理，并构建自己的代理池。\n",
    "\n",
    "    西刺直通点：https://www.xicidaili.com/ 。\n",
    "\n",
    "    参考资料：https://blog.csdn.net/weixin_43720396/article/details/88218204\n"
   ]
  },
  {
   "cell_type": "markdown",
   "metadata": {},
   "source": [
    "### 3.2.1 IP相关知识\n",
    "    1、什么是 IP ?\n",
    "    \n",
    "    Internet Protocol 互联网协议地址，是分配给用户上网使用的网络协议设备的数字标签，一般分为IPv4与IPv6两大类。\n",
    "    \n",
    "    2、为什么会出现 IP 被封？\n",
    "    有的网站为了防止被爬取，会有反爬机制。如果存在某个IP地址大量同类型地访问，会被封锁IP，需要等待一段时间才能继续访问。\n",
    "    3、如何应对 IP 被封的问题？\n",
    "    增加两次抓取的时间间隔；使用代理更换IP；"
   ]
  }
 ],
 "metadata": {
  "kernelspec": {
   "display_name": "Python 3",
   "language": "python",
   "name": "python3"
  },
  "language_info": {
   "codemirror_mode": {
    "name": "ipython",
    "version": 3
   },
   "file_extension": ".py",
   "mimetype": "text/x-python",
   "name": "python",
   "nbconvert_exporter": "python",
   "pygments_lexer": "ipython3",
   "version": "3.7.1"
  }
 },
 "nbformat": 4,
 "nbformat_minor": 2
}
