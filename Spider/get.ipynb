{
 "cells": [
  {
   "cell_type": "markdown",
   "metadata": {},
   "source": [
    "### 利用request库的get请求"
   ]
  },
  {
   "cell_type": "code",
   "execution_count": 3,
   "metadata": {},
   "outputs": [
    {
     "name": "stdout",
     "output_type": "stream",
     "text": [
      "<Response [200]>\n"
     ]
    }
   ],
   "source": [
    "import requests\n",
    "\n",
    "\n",
    "r = requests.get('http://baidu.com/')\n",
    "print (r)"
   ]
  },
  {
   "cell_type": "code",
   "execution_count": null,
   "metadata": {},
   "outputs": [],
   "source": [
    "# 请求头\n",
    "\n",
    "headers = {'Host': 'www.baidu.com',\n",
    "           'User-Agent': 'Mozilla/5.0 (Windows NT 10.0; Win64; x64) AppleWebKit/537.36 (KHTML, like Gecko) Chrome/64.0.3282.140 Safari/537.36 Edge/18.17763',\n",
    "           'Accept': 'text/html, application/xhtml+xml, application/xml; q=0.9, */*; q=0.8',\n",
    "           'Accept-Encoding': 'gzip, deflate, br',\n",
    "           'Accept-Language': 'zh-CN',\n",
    "           'Connection': 'Keep-Alive',\n",
    "           'Cookie': 'BD_CK_SAM=1; BD_HOME=1; H_PS_645EC=10c9mlqN3nxKlVbS2fftRWhtnXQ8BBM98UKvj%2FQvZHVbonNA89CDiXxCO49oFQKissrQpg; COOKIE_SESSION=15493_0_6_5_3_1_0_0_6_1_0_0_101344_0_2_0_1565088878_0_1565088876%7C9%230_0_1565088876%7C1; BD_UPN=1d314753; WWW_ST=1565089900756; BDRCVFR[SL8xzxBXZJn]=mk3SLVN4HKm; delPer=0; PSINO=1; H_PS_PSSID=1455_21123_29073_29522_29521_29098_29568_28836_29221_26350_29071; BDSFRCVID=XyLOJeCmH6VwoRJwOkOBrZGtReKK0gOTHllv-64Guue0ZjIVJeC6EG0Ptf8g0KubFTPRogKK0gOTH6KF_2uxOjjg8UtVJeC6EG0P3J; H_BDCLCKID_SF=tR3j3Ru8KJjEe-Kk-PnVeT3bDhbZKxJmMgkeKT6dJt3cjn7PWMrYXP_SQnrXtfvQ3HPDQCOFfD_bhD-4Djt2entebl8X2-6Q2Co-0n75ajr_et-rWbrdXUI8LUc7tq5faarZLh7oBhoKol3m04ovyT8sXnO72P7qHRFJK-5a5CJAjlTKy4oTjxL1Db3JKjvMtg3t3qQmLUooepvoD-Jc3MvByPjdJJQOBKQB0KnGbUQkeq8CQft205tpexbH55uetnAeofK; BCLID=12537479485815878146; pgv_si=s6286488576; BAIDUID=C01257DF58F8FDD99F319313B3D7613F:FG=1; BIDUPSID=C01257DF58F8FDD99F319313B3D7613F; PSTM=1563187801; BDORZ=FFFB88E999055A3F8A630C64834BD6D0; BDUSS=hma0o3aG5STFMyZzI0aWJOLWpJOGtXS2tYVHZkUFJFZ0xOOHBoN29DdGRHVzlkSVFBQUFBJCQAAAAAAAAAAAEAAAAEVR5CuqPt-GZpc2gAAAAAAAAAAAAAAAAAAAAAAAAAAAAAAAAAAAAAAAAAAAAAAAAAAAAAAAAAAAAAAAAAAAAAAAAAAF2MR11djEdda3',\n",
    "           'Referer': 'https://www.baidu.com/',\n",
    "           'Upgrade-Insecure-Requests': '1'}\n",
    "\n",
    "url = 'http://www.baidu.com/'\n",
    "html = request.get(str(url), headers = headers)"
   ]
  },
  {
   "cell_type": "code",
   "execution_count": 4,
   "metadata": {},
   "outputs": [],
   "source": [
    "# 正则\n",
    "\n",
    "import re\n",
    "import numpy as np\n",
    "import requests\n",
    "import pandas as pd"
   ]
  },
  {
   "cell_type": "code",
   "execution_count": null,
   "metadata": {},
   "outputs": [],
   "source": [
    "def get_douban(url):\n",
    "    headers = {\n",
    "        \n",
    "   Upgrade-Insecure-Requests: 1,\n",
    "        \n",
    "    }"
   ]
  }
 ],
 "metadata": {
  "kernelspec": {
   "display_name": "Python 3",
   "language": "python",
   "name": "python3"
  },
  "language_info": {
   "codemirror_mode": {
    "name": "ipython",
    "version": 3
   },
   "file_extension": ".py",
   "mimetype": "text/x-python",
   "name": "python",
   "nbconvert_exporter": "python",
   "pygments_lexer": "ipython3",
   "version": "3.7.3"
  }
 },
 "nbformat": 4,
 "nbformat_minor": 2
}
