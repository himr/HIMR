{
 "cells": [
  {
   "cell_type": "markdown",
   "metadata": {},
   "source": [
    "# Task3. Sort&Binary_search 排序+二分查找\n",
    "## 【排序】\n",
    "    实现归并排序、快速排序、插入排序、冒泡排序、选择排序、堆排序（完成leetcode上的返回滑动窗口中的最大值(239)\n",
    "    编程实现O（n）时间复杂度内找到一组数据的第K大元素"
   ]
  },
  {
   "cell_type": "code",
   "execution_count": 16,
   "metadata": {},
   "outputs": [],
   "source": [
    "# 归并排序\n",
    "def mergeSort(lists):\n",
    "    if len(lists) <= 1:\n",
    "        return lists\n",
    "    middle = int(len(lists)/2)\n",
    "    left = mergeSort(lists[:middle])\n",
    "    right = mergeSort(lists[middle:])\n",
    "    return merge(left, right)\n",
    "\n",
    "def merge(left, right):\n",
    "    r, l = 0, 0\n",
    "    res =[]\n",
    "    while l < len(left) and r < len(right):\n",
    "        if left[l] <= right[r]:\n",
    "            res.append(right[l])\n",
    "            l += 1\n",
    "        else:\n",
    "            res.append(right[r])\n",
    "            r += 1\n",
    "    res += list(left[l:])\n",
    "    res += list(right[r:]) \n",
    "    return res\n"
   ]
  },
  {
   "cell_type": "code",
   "execution_count": 17,
   "metadata": {},
   "outputs": [
    {
     "name": "stdout",
     "output_type": "stream",
     "text": [
      "[17, 17, 18, 17, 17, 18]\n"
     ]
    }
   ],
   "source": [
    "a=[1,2,3,10,18,17]\n",
    "print(mergeSort(a))  #print(函数)\n"
   ]
  },
  {
   "cell_type": "code",
   "execution_count": 20,
   "metadata": {},
   "outputs": [
    {
     "name": "stdout",
     "output_type": "stream",
     "text": [
      "1\n",
      "3\n",
      "6\n",
      "10\n",
      "17\n",
      "18\n"
     ]
    }
   ],
   "source": [
    "#快排+分治\n",
    "def partition(arr, left, right):\n",
    "    a =(left - 1)\n",
    "    max = arr[right]\n",
    "    \n",
    "    for i in range(left, right):\n",
    "        \n",
    "        if arr[i] <= max:\n",
    "            \n",
    "            a = a+1\n",
    "            arr[a], arr[i] = arr[i], arr[a]\n",
    "    \n",
    "    arr[a+1], arr[right] = arr[right], arr[a+1]\n",
    "    return (a+1)\n",
    "\n",
    "def quickSort(arr, left,right):\n",
    "    \n",
    "    if left < right:\n",
    "        pi = partition(arr, left, right)\n",
    "        quickSort(arr, left, pi - 1)\n",
    "        quickSort(arr, pi + 1, right)\n",
    "    \n",
    "arr = [10,17,18,3,6,1]\n",
    "n = len(arr)\n",
    "quickSort(arr, 0, n-1)\n",
    "for i in range(n):\n",
    "    print(arr[i])\n",
    "    "
   ]
  },
  {
   "cell_type": "code",
   "execution_count": 21,
   "metadata": {},
   "outputs": [
    {
     "name": "stdout",
     "output_type": "stream",
     "text": [
      "5\n",
      "6\n",
      "11\n",
      "12\n",
      "13\n"
     ]
    }
   ],
   "source": [
    "#插入排序\n",
    "def insertionSort(arr):\n",
    "    \n",
    "    for i in range(1, len(arr)):\n",
    "        key = arr[i]\n",
    "        j = i - 1\n",
    "        while j >= 0 and key < arr[j]:\n",
    "            arr[ j + 1] = arr[j]\n",
    "            j = j - 1\n",
    "            arr[ j + 1] = key \n",
    "            \n",
    "arr = [12, 11, 13, 5, 6]\n",
    "insertionSort(arr)\n",
    "for i in range(len(arr)):\n",
    "    print(arr[i])"
   ]
  },
  {
   "cell_type": "code",
   "execution_count": 23,
   "metadata": {},
   "outputs": [
    {
     "name": "stdout",
     "output_type": "stream",
     "text": [
      "1\n",
      "6\n",
      "9\n",
      "10\n",
      "12\n",
      "15\n"
     ]
    }
   ],
   "source": [
    "#冒泡\n",
    "def bubbleSort(arr):\n",
    "    n = len(arr)\n",
    "    \n",
    "    for i in range(n):\n",
    "        \n",
    "        for j in range(0, n-i-1):\n",
    "            if arr[j] > arr[j+1]:\n",
    "                arr[j], arr[j+1] = arr[j+1], arr[j]\n",
    "        \n",
    "arr = [1,6,9,10,15,12]\n",
    "bubbleSort(arr)\n",
    "for i in range(len(arr)):\n",
    "    print(arr[i])"
   ]
  },
  {
   "cell_type": "code",
   "execution_count": 24,
   "metadata": {
    "scrolled": true
   },
   "outputs": [
    {
     "name": "stdout",
     "output_type": "stream",
     "text": [
      "1\n",
      "6\n",
      "9\n",
      "10\n",
      "12\n",
      "15\n"
     ]
    }
   ],
   "source": [
    "#选择，直接找最小元素，放到首位置\n",
    "import sys\n",
    "\n",
    "arr = [1,6,9,10,15,12]\n",
    "\n",
    "for i in range(len(arr)):\n",
    "    min = i \n",
    "    \n",
    "    for j in range(i+1, len(arr)):\n",
    "        if arr[min] > arr[j]:\n",
    "            min = j\n",
    "    \n",
    "    arr[i], arr[min] = arr[min], arr[i]\n",
    "\n",
    "for i in range(len(arr)):\n",
    "    print(arr[i])\n"
   ]
  },
  {
   "cell_type": "code",
   "execution_count": 25,
   "metadata": {},
   "outputs": [
    {
     "name": "stdout",
     "output_type": "stream",
     "text": [
      "15\n",
      "13\n",
      "9\n",
      "10\n",
      "6\n",
      "4\n"
     ]
    }
   ],
   "source": [
    "#堆，近完全二叉树，子节点的键值小于或大于父节点。\n",
    "def heapify(arr, n ,i):\n",
    "    max = i \n",
    "    l = 2 * i + 1\n",
    "    r = 2 * i + 2\n",
    "    \n",
    "    if l < n and arr[i] < arr[l]:\n",
    "        max = l\n",
    "        \n",
    "    if r < n and arr[max] < arr[r]:\n",
    "        max = r\n",
    "        \n",
    "    if max !=i:\n",
    "        arr[i], arr[max] = arr[max], arr[i]\n",
    "        \n",
    "        heapify(arr, n ,max)\n",
    "\n",
    "def heapSort(arr):\n",
    "    n = len(arr)\n",
    "    \n",
    "    for i in range(n ,-1, -1):\n",
    "        heapify(arr, n, i)\n",
    "        \n",
    "arr = [4,6,9,10,13,15]\n",
    "heapSort(arr)\n",
    "for i in range(len(arr)):\n",
    "    print(arr[i])\n",
    "               \n",
    "        "
   ]
  },
  {
   "cell_type": "markdown",
   "metadata": {},
   "source": [
    "## 【二分查找】\n",
    "    实现一个有序数组的二分查找算法\n",
    "    实现模糊二分查找算法（比如大于等于给定值的第一个元素）"
   ]
  },
  {
   "cell_type": "code",
   "execution_count": 30,
   "metadata": {},
   "outputs": [
    {
     "name": "stdout",
     "output_type": "stream",
     "text": [
      "元素在数组中索引为 0 \n"
     ]
    }
   ],
   "source": [
    "#有序数组二分查找\n",
    "def binarySearch(arr, l , r, a):\n",
    "    \n",
    "    if  r >= l:\n",
    "        mid = int(l + (r - 1)/2)\n",
    "        \n",
    "        if a == arr[mid]:\n",
    "            return mid\n",
    "        \n",
    "        elif a > arr[mid]:\n",
    "            return binarySearch(arr, l , mid - 1, a)\n",
    "        \n",
    "        else:\n",
    "            return binarySearch(arr, mid+1, r, a)\n",
    "        \n",
    "    else:\n",
    "        \n",
    "        return False\n",
    "    \n",
    "arr = [1,6,9,10,15,12]\n",
    "a = 10\n",
    "res = binarySearch(arr, 0, len(arr)-1, a)\n",
    "\n",
    "if res != -1:\n",
    "    print(\"元素在数组中索引为 %d \" % res)\n",
    "else:\n",
    "    print(\"查无此元素\")\n"
   ]
  },
  {
   "cell_type": "code",
   "execution_count": null,
   "metadata": {},
   "outputs": [],
   "source": [
    "#模糊二分查找\n",
    "def binarySearch(arr, l, r, a):\n",
    "    \n",
    "    max = r\n",
    "    \n",
    "    while l <= r:\n",
    "        mid = (l+r) // 2\n",
    "        \n",
    "        if arr[mid] == a:\n",
    "            \n",
    "            while arr[mid - 1] == a:\n",
    "                mid -= 1\n",
    "                \n",
    "            return arr[mid], mid\n",
    "        elif arr[mid] < a:\n",
    "            l = mid + 1\n",
    "        else:\n",
    "            r = mid - 1\n",
    "        \n",
    "    if r + 1 < max:\n",
    "        return arr[r + 1], r + 1\n",
    "    else:\n",
    "        return"
   ]
  }
 ],
 "metadata": {
  "kernelspec": {
   "display_name": "Python 3",
   "language": "python",
   "name": "python3"
  },
  "language_info": {
   "codemirror_mode": {
    "name": "ipython",
    "version": 3
   },
   "file_extension": ".py",
   "mimetype": "text/x-python",
   "name": "python",
   "nbconvert_exporter": "python",
   "pygments_lexer": "ipython3",
   "version": "3.7.3"
  }
 },
 "nbformat": 4,
 "nbformat_minor": 2
}
