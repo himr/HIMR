{
 "cells": [
  {
   "cell_type": "markdown",
   "metadata": {},
   "source": [
    "# Task4：Hash表和字符串\n",
    "\n",
    "## 【Hash表】\n",
    "    实现一个基于链表法解决冲突问题的散列表\n",
    "    实现一个 LRU 缓存淘汰算法"
   ]
  },
  {
   "cell_type": "code",
   "execution_count": 4,
   "metadata": {},
   "outputs": [],
   "source": [
    "class ListNode:\n",
    "    def _init_(self, value, p_next = None):\n",
    "        self.data = value\n",
    "        self.next = p_next\n",
    "        \n",
    "class HashTable:\n",
    "    def _init_(self, p):\n",
    "        self.array = [None] * p\n",
    "        self._div = p\n",
    "        \n",
    "    def hashFun(self, key):\n",
    "        return key %self._div\n",
    "    \n",
    "    def insert(self, value):\n",
    "        key = self.hashFun(value)\n",
    "        if self.array[key] is None:\n",
    "            self.array[key] = ListNode(None)\n",
    "            node = ListNode(value)\n",
    "            self.array[key].next = node\n",
    "        else:\n",
    "            node = ListNode(value)\n",
    "            node.next = self.array[key].next\n",
    "            self.array[key].next = node\n",
    "            \n",
    "    def showTable(self):\n",
    "        for index in range(self._div):\n",
    "            if self.array[index]:\n",
    "                p = self.array[index].next\n",
    "                print('%d：' % index)\n",
    "                while p:\n",
    "                    print(p.data,end='—>')\n",
    "                    p = p.next\n",
    "                print('\\n')\n"
   ]
  },
  {
   "cell_type": "code",
   "execution_count": 2,
   "metadata": {},
   "outputs": [],
   "source": [
    "from collections import OrderedDict\n",
    "\n",
    "class LruCache():\n",
    "    def __init__(self,capacity = 10):        \n",
    "        self.maxcount = capacity        \n",
    "        self.queue = OrderedDict()        \n",
    "        def get(self,key):        \n",
    "            if key not in self.queue:            \n",
    "                return -1        \n",
    "            else:            \n",
    "                value = self.queue.pop(key)            \n",
    "                self.queue[key] = value            \n",
    "                return value            \n",
    "            def put(self,key,data):        \n",
    "                if key in self.queue:            \n",
    "                    self.queue.pop(key)            \n",
    "                    self.queue[key] = data        \n",
    "                else:            \n",
    "                    if len(self.queue.items()) == self.maxcount:                \n",
    "                        self.queue.popitem(last = False)                \n",
    "                        self.queue[key] = data            \n",
    "                    else:                \n",
    "                        self.queue[key] = data\n"
   ]
  },
  {
   "cell_type": "markdown",
   "metadata": {},
   "source": [
    "## 【字符串】\n",
    "    实现一个字符集，只包含 a～z 这 26 个英文字母的 Trie 树\n",
    "    实现朴素的字符串匹配算法"
   ]
  },
  {
   "cell_type": "code",
   "execution_count": null,
   "metadata": {},
   "outputs": [],
   "source": []
  },
  {
   "cell_type": "code",
   "execution_count": 5,
   "metadata": {},
   "outputs": [],
   "source": [
    "def stringMatch(str1, str2):\n",
    "    i = j = 0; startPos = i\n",
    "    len1 = len(str1); len2 = len(str2)\n",
    "    flag = True; result = None\n",
    "    while flag:\n",
    "        i = startPos\n",
    "        while i < len1 and j < len2 and str1[i] == str2[j]:\n",
    "            i += 1; j += 1\n",
    "        if j == len2:\n",
    "            flag = False\n",
    "            result = startPos\n",
    "        else:\n",
    "            j = 0; startPos += 1\n",
    "        if i == len1:\n",
    "            flag = False\n",
    "    \n",
    "    return result"
   ]
  },
  {
   "cell_type": "code",
   "execution_count": null,
   "metadata": {},
   "outputs": [],
   "source": []
  }
 ],
 "metadata": {
  "kernelspec": {
   "display_name": "Python 3",
   "language": "python",
   "name": "python3"
  },
  "language_info": {
   "codemirror_mode": {
    "name": "ipython",
    "version": 3
   },
   "file_extension": ".py",
   "mimetype": "text/x-python",
   "name": "python",
   "nbconvert_exporter": "python",
   "pygments_lexer": "ipython3",
   "version": "3.7.1"
  }
 },
 "nbformat": 4,
 "nbformat_minor": 2
}
