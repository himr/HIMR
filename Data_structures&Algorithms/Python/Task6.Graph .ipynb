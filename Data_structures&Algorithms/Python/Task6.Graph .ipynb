{
 "cells": [
  {
   "cell_type": "markdown",
   "metadata": {},
   "source": [
    "# Task6: 图\n",
    "\n",
    "    实现有向图、无向图、有权图、无权图的邻接矩阵和邻接表表示方法\n",
    "    实现图的深度优先搜索、广度优先搜索实现\n",
    "    Dijkstra 算法实现\n",
    "    拓扑排序"
   ]
  },
  {
   "cell_type": "code",
   "execution_count": null,
   "metadata": {},
   "outputs": [],
   "source": [
    "def create_directed_graph_from_edges(my_graph):\n",
    "    nodes = ['A', 'B', 'C', 'D', 'E', 'F', 'G']\n",
    "    edge_list = [('A', 'F', 9), ('A', 'B', 10), ('A', 'G', 15), ('B', 'F', 2),\n",
    "                 ('G', 'F', 3), ('G', 'E', 12), ('G', 'C', 10), ('C', 'E', 1),\n",
    "                 ('E', 'D', 7)]\n",
    "\n",
    "    my_graph = Graph_Matrix(nodes)\n",
    "    my_graph.add_edges_from_list(edge_list)\n",
    "    print(my_graph)\n",
    "    return my_graph"
   ]
  },
  {
   "cell_type": "code",
   "execution_count": null,
   "metadata": {},
   "outputs": [],
   "source": [
    "def draw_undircted_graph(my_graph):\n",
    "    G = nx.Graph()  # 建立一个空的无向图G\n",
    "    for node in my_graph.vertices:\n",
    "        G.add_node(str(node))\n",
    "    for edge in my_graph.edges:\n",
    "        G.add_edge(str(edge[0]), str(edge[1]))\n",
    "\n",
    "    print(\"nodes:\", G.nodes())  # 输出全部的节点： [1, 2, 3]\n",
    "    print(\"edges:\", G.edges())  # 输出全部的边：[(2, 3)]\n",
    "    print(\"number of edges:\", G.number_of_edges())  # 输出边的数量：1\n",
    "    nx.draw(G, with_labels=True)\n",
    "    plt.savefig(\"undirected_graph.png\")\n",
    "    plt.show()\n"
   ]
  },
  {
   "cell_type": "code",
   "execution_count": null,
   "metadata": {},
   "outputs": [],
   "source": [
    "\n",
    "def draw_directed_graph(my_graph):\n",
    "    G = nx.DiGraph()  # 建立一个空的无向图G\n",
    "    for node in my_graph.vertices:\n",
    "        G.add_node(str(node))\n",
    "    G.add_weighted_edges_from(my_graph.edges_array)\n",
    "\n",
    "    print(\"nodes:\", G.nodes())  # 输出全部的节点\n",
    "    print(\"edges:\", G.edges())  # 输出全部的边\n",
    "    print(\"number of edges:\", G.number_of_edges())  # 输出边的数量\n",
    "    nx.draw(G, with_labels=True)\n",
    "    plt.savefig(\"directed_graph.png\")\n",
    "    plt.show()\n"
   ]
  },
  {
   "cell_type": "code",
   "execution_count": null,
   "metadata": {},
   "outputs": [],
   "source": [
    "# 深度优先遍历\n",
    "\n",
    "def dfs(adj, start):\n",
    "    visited = set()\n",
    "    stack = [[start, 0]]\n",
    "    while stack:\n",
    "        (v, next_child_idx) = stack[-1]\n",
    "        if (v not in adj) or (next_child_idx >= len(adj[v])):\n",
    "            stack.pop()\n",
    "            continue\n",
    "        next_child = adj[v][next_child_idx]\n",
    "        stack[-1][1] += 1\n",
    "        if next_child in visited:\n",
    "            continue\n",
    "        print(next_child)\n",
    "        visited.add(next_child)\n",
    "        stack.append([next_child, 0])\n",
    " \n",
    " \n",
    "graph = {1: [4, 2], 2: [3, 4], 3: [4], 4: [5]}\n",
    "dfs(graph, 1)"
   ]
  },
  {
   "cell_type": "code",
   "execution_count": null,
   "metadata": {},
   "outputs": [],
   "source": [
    "# 广度优先遍历\n",
    "\n",
    "import Queue\n",
    " \n",
    "def bfs(adj, start):\n",
    "    visited = set()\n",
    "    q = Queue.Queue()\n",
    "    q.put(start)\n",
    "    while not q.empty():\n",
    "        u = q.get()\n",
    "        print(u)\n",
    "        for v in adj.get(u, []):\n",
    "            if v not in visited:\n",
    "                visited.add(v)\n",
    "                q.put(v)\n",
    " \n",
    " \n",
    "graph = {1: [4, 2], 2: [3, 4], 3: [4], 4: [5]}\n",
    "bfs(graph, 1)"
   ]
  },
  {
   "cell_type": "code",
   "execution_count": null,
   "metadata": {},
   "outputs": [],
   "source": [
    "#最短路径\n",
    "\n",
    "def real_get_traj(start,index):\n",
    "    traj_list = []\n",
    "    def get_traj(index):#参数是顶点在vlist中的索引\n",
    "        if(index == start):#终点\n",
    "            traj_list.append(index)\n",
    "            print(traj_list[::-1])#反转list\n",
    "            return\n",
    "        if(vlist[index].dist == float('inf')):\n",
    "            print('从起点到该顶点根本没有路径')\n",
    "            return\n",
    "        traj_list.append(index)\n",
    "        get_traj(vlist[index].prev)\n",
    "    get_traj(index)\n",
    "    print('该最短路径的长度为',vlist[index].dist)\n",
    "\n",
    "real_get_traj(1,3)\n",
    "real_get_traj(1,6)\n"
   ]
  },
  {
   "cell_type": "code",
   "execution_count": null,
   "metadata": {},
   "outputs": [],
   "source": [
    "def TopologicalSort(G):\n",
    "\n",
    "    in_degrees = dict((u, 0) for u in G)\n",
    "\n",
    "    for u in G:\n",
    "        for v in G[u]:\n",
    "            in_degrees[v] += 1\n",
    "\n",
    "    Q = [u for u in G if in_degrees[u] == 0]\n",
    "    res = []\n",
    "\n",
    "    while Q:\n",
    "\n",
    "        u = Q.pop()\n",
    "\n",
    "        res.append(u)\n",
    "\n",
    "        for v in G[u]:\n",
    "            in_degrees[v] -= 1\n",
    "\n",
    "            if in_degrees[v] == 0:\n",
    "                Q.append(v)\n",
    "    return res\n",
    "print(TopologicalSort(graph))\n"
   ]
  },
  {
   "cell_type": "code",
   "execution_count": null,
   "metadata": {},
   "outputs": [],
   "source": []
  }
 ],
 "metadata": {
  "kernelspec": {
   "display_name": "Python 3",
   "language": "python",
   "name": "python3"
  },
  "language_info": {
   "codemirror_mode": {
    "name": "ipython",
    "version": 3
   },
   "file_extension": ".py",
   "mimetype": "text/x-python",
   "name": "python",
   "nbconvert_exporter": "python",
   "pygments_lexer": "ipython3",
   "version": "3.7.1"
  }
 },
 "nbformat": 4,
 "nbformat_minor": 2
}
